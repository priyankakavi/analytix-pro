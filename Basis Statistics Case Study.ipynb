{
 "cells": [
  {
   "cell_type": "markdown",
   "id": "a53114ce",
   "metadata": {},
   "source": [
    "### Basic Statistics Case Study"
   ]
  },
  {
   "cell_type": "code",
   "execution_count": 1,
   "id": "458482ae",
   "metadata": {},
   "outputs": [],
   "source": [
    "import numpy as np\n",
    "import pandas as pd\n",
    "import seaborn as sns\n",
    "import matplotlib.pyplot as plt\n",
    "%matplotlib inline\n",
    "import datetime as dt\n",
    "import scipy.stats as stats"
   ]
  },
  {
   "cell_type": "markdown",
   "id": "701adf6a",
   "metadata": {},
   "source": [
    "#### Business Problem 1"
   ]
  },
  {
   "cell_type": "code",
   "execution_count": 2,
   "id": "1141b564",
   "metadata": {},
   "outputs": [],
   "source": [
    "loan = pd.read_csv(r\"C:\\Users\\kavir\\OneDrive\\Documents\\Business Analytics\\python\\case study\\4. Basic Statistics - Hypothesis Testing\\LoansData.csv\")"
   ]
  },
  {
   "cell_type": "code",
   "execution_count": 3,
   "id": "91fac973",
   "metadata": {},
   "outputs": [
    {
     "data": {
      "text/html": [
       "<div>\n",
       "<style scoped>\n",
       "    .dataframe tbody tr th:only-of-type {\n",
       "        vertical-align: middle;\n",
       "    }\n",
       "\n",
       "    .dataframe tbody tr th {\n",
       "        vertical-align: top;\n",
       "    }\n",
       "\n",
       "    .dataframe thead th {\n",
       "        text-align: right;\n",
       "    }\n",
       "</style>\n",
       "<table border=\"1\" class=\"dataframe\">\n",
       "  <thead>\n",
       "    <tr style=\"text-align: right;\">\n",
       "      <th></th>\n",
       "      <th>Amount.Requested</th>\n",
       "      <th>Amount.Funded.By.Investors</th>\n",
       "      <th>Interest.Rate</th>\n",
       "      <th>Loan.Length</th>\n",
       "      <th>Loan.Purpose</th>\n",
       "      <th>Debt.To.Income.Ratio</th>\n",
       "      <th>State</th>\n",
       "      <th>Home.Ownership</th>\n",
       "      <th>Monthly.Income</th>\n",
       "      <th>FICO.Range</th>\n",
       "      <th>Open.CREDIT.Lines</th>\n",
       "      <th>Revolving.CREDIT.Balance</th>\n",
       "      <th>Inquiries.in.the.Last.6.Months</th>\n",
       "      <th>Employment.Length</th>\n",
       "    </tr>\n",
       "  </thead>\n",
       "  <tbody>\n",
       "    <tr>\n",
       "      <th>0</th>\n",
       "      <td>20000.0</td>\n",
       "      <td>20000.0</td>\n",
       "      <td>8.90%</td>\n",
       "      <td>36 months</td>\n",
       "      <td>debt_consolidation</td>\n",
       "      <td>14.90%</td>\n",
       "      <td>SC</td>\n",
       "      <td>MORTGAGE</td>\n",
       "      <td>6541.67</td>\n",
       "      <td>735-739</td>\n",
       "      <td>14.0</td>\n",
       "      <td>14272.0</td>\n",
       "      <td>2.0</td>\n",
       "      <td>&lt; 1 year</td>\n",
       "    </tr>\n",
       "    <tr>\n",
       "      <th>1</th>\n",
       "      <td>19200.0</td>\n",
       "      <td>19200.0</td>\n",
       "      <td>12.12%</td>\n",
       "      <td>36 months</td>\n",
       "      <td>debt_consolidation</td>\n",
       "      <td>28.36%</td>\n",
       "      <td>TX</td>\n",
       "      <td>MORTGAGE</td>\n",
       "      <td>4583.33</td>\n",
       "      <td>715-719</td>\n",
       "      <td>12.0</td>\n",
       "      <td>11140.0</td>\n",
       "      <td>1.0</td>\n",
       "      <td>2 years</td>\n",
       "    </tr>\n",
       "    <tr>\n",
       "      <th>2</th>\n",
       "      <td>35000.0</td>\n",
       "      <td>35000.0</td>\n",
       "      <td>21.98%</td>\n",
       "      <td>60 months</td>\n",
       "      <td>debt_consolidation</td>\n",
       "      <td>23.81%</td>\n",
       "      <td>CA</td>\n",
       "      <td>MORTGAGE</td>\n",
       "      <td>11500.00</td>\n",
       "      <td>690-694</td>\n",
       "      <td>14.0</td>\n",
       "      <td>21977.0</td>\n",
       "      <td>1.0</td>\n",
       "      <td>2 years</td>\n",
       "    </tr>\n",
       "    <tr>\n",
       "      <th>3</th>\n",
       "      <td>10000.0</td>\n",
       "      <td>9975.0</td>\n",
       "      <td>9.99%</td>\n",
       "      <td>36 months</td>\n",
       "      <td>debt_consolidation</td>\n",
       "      <td>14.30%</td>\n",
       "      <td>KS</td>\n",
       "      <td>MORTGAGE</td>\n",
       "      <td>3833.33</td>\n",
       "      <td>695-699</td>\n",
       "      <td>10.0</td>\n",
       "      <td>9346.0</td>\n",
       "      <td>0.0</td>\n",
       "      <td>5 years</td>\n",
       "    </tr>\n",
       "    <tr>\n",
       "      <th>4</th>\n",
       "      <td>12000.0</td>\n",
       "      <td>12000.0</td>\n",
       "      <td>11.71%</td>\n",
       "      <td>36 months</td>\n",
       "      <td>credit_card</td>\n",
       "      <td>18.78%</td>\n",
       "      <td>NJ</td>\n",
       "      <td>RENT</td>\n",
       "      <td>3195.00</td>\n",
       "      <td>695-699</td>\n",
       "      <td>11.0</td>\n",
       "      <td>14469.0</td>\n",
       "      <td>0.0</td>\n",
       "      <td>9 years</td>\n",
       "    </tr>\n",
       "  </tbody>\n",
       "</table>\n",
       "</div>"
      ],
      "text/plain": [
       "   Amount.Requested  Amount.Funded.By.Investors Interest.Rate Loan.Length  \\\n",
       "0           20000.0                     20000.0         8.90%   36 months   \n",
       "1           19200.0                     19200.0        12.12%   36 months   \n",
       "2           35000.0                     35000.0        21.98%   60 months   \n",
       "3           10000.0                      9975.0         9.99%   36 months   \n",
       "4           12000.0                     12000.0        11.71%   36 months   \n",
       "\n",
       "         Loan.Purpose Debt.To.Income.Ratio State Home.Ownership  \\\n",
       "0  debt_consolidation               14.90%    SC       MORTGAGE   \n",
       "1  debt_consolidation               28.36%    TX       MORTGAGE   \n",
       "2  debt_consolidation               23.81%    CA       MORTGAGE   \n",
       "3  debt_consolidation               14.30%    KS       MORTGAGE   \n",
       "4         credit_card               18.78%    NJ           RENT   \n",
       "\n",
       "   Monthly.Income FICO.Range  Open.CREDIT.Lines  Revolving.CREDIT.Balance  \\\n",
       "0         6541.67    735-739               14.0                   14272.0   \n",
       "1         4583.33    715-719               12.0                   11140.0   \n",
       "2        11500.00    690-694               14.0                   21977.0   \n",
       "3         3833.33    695-699               10.0                    9346.0   \n",
       "4         3195.00    695-699               11.0                   14469.0   \n",
       "\n",
       "   Inquiries.in.the.Last.6.Months Employment.Length  \n",
       "0                             2.0          < 1 year  \n",
       "1                             1.0           2 years  \n",
       "2                             1.0           2 years  \n",
       "3                             0.0           5 years  \n",
       "4                             0.0           9 years  "
      ]
     },
     "execution_count": 3,
     "metadata": {},
     "output_type": "execute_result"
    }
   ],
   "source": [
    "loan.head()"
   ]
  },
  {
   "cell_type": "code",
   "execution_count": 4,
   "id": "f1edb588",
   "metadata": {},
   "outputs": [
    {
     "name": "stderr",
     "output_type": "stream",
     "text": [
      "C:\\Users\\kavir\\AppData\\Local\\Temp\\ipykernel_37964\\1457157749.py:3: FutureWarning: The default value of regex will change from True to False in a future version. In addition, single character regular expressions will *not* be treated as literal strings when regex=True.\n",
      "  loan.columns = loan.columns.str.replace('.','_')\n"
     ]
    }
   ],
   "source": [
    "# changing col names\n",
    "\n",
    "loan.columns = loan.columns.str.replace('.','_')"
   ]
  },
  {
   "cell_type": "code",
   "execution_count": 5,
   "id": "b1ca199d",
   "metadata": {},
   "outputs": [
    {
     "data": {
      "text/html": [
       "<div>\n",
       "<style scoped>\n",
       "    .dataframe tbody tr th:only-of-type {\n",
       "        vertical-align: middle;\n",
       "    }\n",
       "\n",
       "    .dataframe tbody tr th {\n",
       "        vertical-align: top;\n",
       "    }\n",
       "\n",
       "    .dataframe thead th {\n",
       "        text-align: right;\n",
       "    }\n",
       "</style>\n",
       "<table border=\"1\" class=\"dataframe\">\n",
       "  <thead>\n",
       "    <tr style=\"text-align: right;\">\n",
       "      <th></th>\n",
       "      <th>Amount_Requested</th>\n",
       "      <th>Amount_Funded_By_Investors</th>\n",
       "      <th>Interest_Rate</th>\n",
       "      <th>Loan_Length</th>\n",
       "      <th>Loan_Purpose</th>\n",
       "      <th>Debt_To_Income_Ratio</th>\n",
       "      <th>State</th>\n",
       "      <th>Home_Ownership</th>\n",
       "      <th>Monthly_Income</th>\n",
       "      <th>FICO_Range</th>\n",
       "      <th>Open_CREDIT_Lines</th>\n",
       "      <th>Revolving_CREDIT_Balance</th>\n",
       "      <th>Inquiries_in_the_Last_6_Months</th>\n",
       "      <th>Employment_Length</th>\n",
       "    </tr>\n",
       "  </thead>\n",
       "  <tbody>\n",
       "    <tr>\n",
       "      <th>0</th>\n",
       "      <td>20000.0</td>\n",
       "      <td>20000.0</td>\n",
       "      <td>8.90%</td>\n",
       "      <td>36 months</td>\n",
       "      <td>debt_consolidation</td>\n",
       "      <td>14.90%</td>\n",
       "      <td>SC</td>\n",
       "      <td>MORTGAGE</td>\n",
       "      <td>6541.67</td>\n",
       "      <td>735-739</td>\n",
       "      <td>14.0</td>\n",
       "      <td>14272.0</td>\n",
       "      <td>2.0</td>\n",
       "      <td>&lt; 1 year</td>\n",
       "    </tr>\n",
       "    <tr>\n",
       "      <th>1</th>\n",
       "      <td>19200.0</td>\n",
       "      <td>19200.0</td>\n",
       "      <td>12.12%</td>\n",
       "      <td>36 months</td>\n",
       "      <td>debt_consolidation</td>\n",
       "      <td>28.36%</td>\n",
       "      <td>TX</td>\n",
       "      <td>MORTGAGE</td>\n",
       "      <td>4583.33</td>\n",
       "      <td>715-719</td>\n",
       "      <td>12.0</td>\n",
       "      <td>11140.0</td>\n",
       "      <td>1.0</td>\n",
       "      <td>2 years</td>\n",
       "    </tr>\n",
       "    <tr>\n",
       "      <th>2</th>\n",
       "      <td>35000.0</td>\n",
       "      <td>35000.0</td>\n",
       "      <td>21.98%</td>\n",
       "      <td>60 months</td>\n",
       "      <td>debt_consolidation</td>\n",
       "      <td>23.81%</td>\n",
       "      <td>CA</td>\n",
       "      <td>MORTGAGE</td>\n",
       "      <td>11500.00</td>\n",
       "      <td>690-694</td>\n",
       "      <td>14.0</td>\n",
       "      <td>21977.0</td>\n",
       "      <td>1.0</td>\n",
       "      <td>2 years</td>\n",
       "    </tr>\n",
       "  </tbody>\n",
       "</table>\n",
       "</div>"
      ],
      "text/plain": [
       "   Amount_Requested  Amount_Funded_By_Investors Interest_Rate Loan_Length  \\\n",
       "0           20000.0                     20000.0         8.90%   36 months   \n",
       "1           19200.0                     19200.0        12.12%   36 months   \n",
       "2           35000.0                     35000.0        21.98%   60 months   \n",
       "\n",
       "         Loan_Purpose Debt_To_Income_Ratio State Home_Ownership  \\\n",
       "0  debt_consolidation               14.90%    SC       MORTGAGE   \n",
       "1  debt_consolidation               28.36%    TX       MORTGAGE   \n",
       "2  debt_consolidation               23.81%    CA       MORTGAGE   \n",
       "\n",
       "   Monthly_Income FICO_Range  Open_CREDIT_Lines  Revolving_CREDIT_Balance  \\\n",
       "0         6541.67    735-739               14.0                   14272.0   \n",
       "1         4583.33    715-719               12.0                   11140.0   \n",
       "2        11500.00    690-694               14.0                   21977.0   \n",
       "\n",
       "   Inquiries_in_the_Last_6_Months Employment_Length  \n",
       "0                             2.0          < 1 year  \n",
       "1                             1.0           2 years  \n",
       "2                             1.0           2 years  "
      ]
     },
     "execution_count": 5,
     "metadata": {},
     "output_type": "execute_result"
    }
   ],
   "source": [
    "loan.head(3)"
   ]
  },
  {
   "cell_type": "code",
   "execution_count": 7,
   "id": "5f1d21a0",
   "metadata": {},
   "outputs": [
    {
     "data": {
      "text/plain": [
       "(2500, 14)"
      ]
     },
     "execution_count": 7,
     "metadata": {},
     "output_type": "execute_result"
    }
   ],
   "source": [
    "loan.shape"
   ]
  },
  {
   "cell_type": "code",
   "execution_count": 9,
   "id": "e44c0345",
   "metadata": {},
   "outputs": [
    {
     "data": {
      "text/plain": [
       "Amount_Requested                   1\n",
       "Amount_Funded_By_Investors         1\n",
       "Interest_Rate                      2\n",
       "Loan_Length                        0\n",
       "Loan_Purpose                       0\n",
       "Debt_To_Income_Ratio               1\n",
       "State                              0\n",
       "Home_Ownership                     1\n",
       "Monthly_Income                     1\n",
       "FICO_Range                         2\n",
       "Open_CREDIT_Lines                  3\n",
       "Revolving_CREDIT_Balance           3\n",
       "Inquiries_in_the_Last_6_Months     3\n",
       "Employment_Length                 77\n",
       "dtype: int64"
      ]
     },
     "execution_count": 9,
     "metadata": {},
     "output_type": "execute_result"
    }
   ],
   "source": [
    "# checking null values\n",
    "\n",
    "loan.isna().sum()"
   ]
  },
  {
   "cell_type": "code",
   "execution_count": 10,
   "id": "d84acdaf",
   "metadata": {},
   "outputs": [],
   "source": [
    "# dropping null values and employment_length column\n",
    "\n",
    "loan = loan.dropna()\n",
    "loan = loan.drop (columns = 'Employment_Length')"
   ]
  },
  {
   "cell_type": "code",
   "execution_count": 13,
   "id": "28ac10fa",
   "metadata": {},
   "outputs": [
    {
     "name": "stdout",
     "output_type": "stream",
     "text": [
      "<class 'pandas.core.frame.DataFrame'>\n",
      "Int64Index: 2413 entries, 0 to 2499\n",
      "Data columns (total 13 columns):\n",
      " #   Column                          Non-Null Count  Dtype  \n",
      "---  ------                          --------------  -----  \n",
      " 0   Amount_Requested                2413 non-null   float64\n",
      " 1   Amount_Funded_By_Investors      2413 non-null   float64\n",
      " 2   Interest_Rate                   2413 non-null   object \n",
      " 3   Loan_Length                     2413 non-null   object \n",
      " 4   Loan_Purpose                    2413 non-null   object \n",
      " 5   Debt_To_Income_Ratio            2413 non-null   object \n",
      " 6   State                           2413 non-null   object \n",
      " 7   Home_Ownership                  2413 non-null   object \n",
      " 8   Monthly_Income                  2413 non-null   float64\n",
      " 9   FICO_Range                      2413 non-null   object \n",
      " 10  Open_CREDIT_Lines               2413 non-null   float64\n",
      " 11  Revolving_CREDIT_Balance        2413 non-null   float64\n",
      " 12  Inquiries_in_the_Last_6_Months  2413 non-null   float64\n",
      "dtypes: float64(6), object(7)\n",
      "memory usage: 263.9+ KB\n"
     ]
    }
   ],
   "source": [
    "loan.info()"
   ]
  },
  {
   "cell_type": "code",
   "execution_count": 19,
   "id": "b401f21d",
   "metadata": {},
   "outputs": [],
   "source": [
    "# changing data type of interest rate and debt income ratio col."
   ]
  },
  {
   "cell_type": "code",
   "execution_count": 18,
   "id": "ac2a0e58",
   "metadata": {},
   "outputs": [],
   "source": [
    "loan['Debt_To_Income_Ratio'] = pd.to_numeric(loan['Debt_To_Income_Ratio'].str.replace('%',''))"
   ]
  },
  {
   "cell_type": "code",
   "execution_count": null,
   "id": "336a18c1",
   "metadata": {},
   "outputs": [],
   "source": [
    "loan['Interest_Rate'] = pd.to_numeric(loan['Interest_Rate'].str.replace('%',''))"
   ]
  },
  {
   "cell_type": "code",
   "execution_count": 20,
   "id": "4b98d8f8",
   "metadata": {},
   "outputs": [
    {
     "name": "stdout",
     "output_type": "stream",
     "text": [
      "<class 'pandas.core.frame.DataFrame'>\n",
      "Int64Index: 2413 entries, 0 to 2499\n",
      "Data columns (total 13 columns):\n",
      " #   Column                          Non-Null Count  Dtype  \n",
      "---  ------                          --------------  -----  \n",
      " 0   Amount_Requested                2413 non-null   float64\n",
      " 1   Amount_Funded_By_Investors      2413 non-null   float64\n",
      " 2   Interest_Rate                   2413 non-null   float64\n",
      " 3   Loan_Length                     2413 non-null   object \n",
      " 4   Loan_Purpose                    2413 non-null   object \n",
      " 5   Debt_To_Income_Ratio            2413 non-null   float64\n",
      " 6   State                           2413 non-null   object \n",
      " 7   Home_Ownership                  2413 non-null   object \n",
      " 8   Monthly_Income                  2413 non-null   float64\n",
      " 9   FICO_Range                      2413 non-null   object \n",
      " 10  Open_CREDIT_Lines               2413 non-null   float64\n",
      " 11  Revolving_CREDIT_Balance        2413 non-null   float64\n",
      " 12  Inquiries_in_the_Last_6_Months  2413 non-null   float64\n",
      "dtypes: float64(8), object(5)\n",
      "memory usage: 263.9+ KB\n"
     ]
    }
   ],
   "source": [
    "loan.info()"
   ]
  },
  {
   "cell_type": "code",
   "execution_count": 21,
   "id": "cf9438fc",
   "metadata": {},
   "outputs": [
    {
     "data": {
      "text/html": [
       "<div>\n",
       "<style scoped>\n",
       "    .dataframe tbody tr th:only-of-type {\n",
       "        vertical-align: middle;\n",
       "    }\n",
       "\n",
       "    .dataframe tbody tr th {\n",
       "        vertical-align: top;\n",
       "    }\n",
       "\n",
       "    .dataframe thead th {\n",
       "        text-align: right;\n",
       "    }\n",
       "</style>\n",
       "<table border=\"1\" class=\"dataframe\">\n",
       "  <thead>\n",
       "    <tr style=\"text-align: right;\">\n",
       "      <th></th>\n",
       "      <th>Amount_Requested</th>\n",
       "      <th>Amount_Funded_By_Investors</th>\n",
       "      <th>Interest_Rate</th>\n",
       "      <th>Loan_Length</th>\n",
       "      <th>Loan_Purpose</th>\n",
       "      <th>Debt_To_Income_Ratio</th>\n",
       "      <th>State</th>\n",
       "      <th>Home_Ownership</th>\n",
       "      <th>Monthly_Income</th>\n",
       "      <th>FICO_Range</th>\n",
       "      <th>Open_CREDIT_Lines</th>\n",
       "      <th>Revolving_CREDIT_Balance</th>\n",
       "      <th>Inquiries_in_the_Last_6_Months</th>\n",
       "    </tr>\n",
       "  </thead>\n",
       "  <tbody>\n",
       "    <tr>\n",
       "      <th>0</th>\n",
       "      <td>20000.0</td>\n",
       "      <td>20000.0</td>\n",
       "      <td>8.90</td>\n",
       "      <td>36 months</td>\n",
       "      <td>debt_consolidation</td>\n",
       "      <td>14.90</td>\n",
       "      <td>SC</td>\n",
       "      <td>MORTGAGE</td>\n",
       "      <td>6541.67</td>\n",
       "      <td>735-739</td>\n",
       "      <td>14.0</td>\n",
       "      <td>14272.0</td>\n",
       "      <td>2.0</td>\n",
       "    </tr>\n",
       "    <tr>\n",
       "      <th>1</th>\n",
       "      <td>19200.0</td>\n",
       "      <td>19200.0</td>\n",
       "      <td>12.12</td>\n",
       "      <td>36 months</td>\n",
       "      <td>debt_consolidation</td>\n",
       "      <td>28.36</td>\n",
       "      <td>TX</td>\n",
       "      <td>MORTGAGE</td>\n",
       "      <td>4583.33</td>\n",
       "      <td>715-719</td>\n",
       "      <td>12.0</td>\n",
       "      <td>11140.0</td>\n",
       "      <td>1.0</td>\n",
       "    </tr>\n",
       "    <tr>\n",
       "      <th>2</th>\n",
       "      <td>35000.0</td>\n",
       "      <td>35000.0</td>\n",
       "      <td>21.98</td>\n",
       "      <td>60 months</td>\n",
       "      <td>debt_consolidation</td>\n",
       "      <td>23.81</td>\n",
       "      <td>CA</td>\n",
       "      <td>MORTGAGE</td>\n",
       "      <td>11500.00</td>\n",
       "      <td>690-694</td>\n",
       "      <td>14.0</td>\n",
       "      <td>21977.0</td>\n",
       "      <td>1.0</td>\n",
       "    </tr>\n",
       "  </tbody>\n",
       "</table>\n",
       "</div>"
      ],
      "text/plain": [
       "   Amount_Requested  Amount_Funded_By_Investors  Interest_Rate Loan_Length  \\\n",
       "0           20000.0                     20000.0           8.90   36 months   \n",
       "1           19200.0                     19200.0          12.12   36 months   \n",
       "2           35000.0                     35000.0          21.98   60 months   \n",
       "\n",
       "         Loan_Purpose  Debt_To_Income_Ratio State Home_Ownership  \\\n",
       "0  debt_consolidation                 14.90    SC       MORTGAGE   \n",
       "1  debt_consolidation                 28.36    TX       MORTGAGE   \n",
       "2  debt_consolidation                 23.81    CA       MORTGAGE   \n",
       "\n",
       "   Monthly_Income FICO_Range  Open_CREDIT_Lines  Revolving_CREDIT_Balance  \\\n",
       "0         6541.67    735-739               14.0                   14272.0   \n",
       "1         4583.33    715-719               12.0                   11140.0   \n",
       "2        11500.00    690-694               14.0                   21977.0   \n",
       "\n",
       "   Inquiries_in_the_Last_6_Months  \n",
       "0                             2.0  \n",
       "1                             1.0  \n",
       "2                             1.0  "
      ]
     },
     "execution_count": 21,
     "metadata": {},
     "output_type": "execute_result"
    }
   ],
   "source": [
    "loan.head(3)"
   ]
  },
  {
   "cell_type": "code",
   "execution_count": 25,
   "id": "ac5b6f7d",
   "metadata": {},
   "outputs": [],
   "source": [
    "# calculating avg Fico score based on Range\n",
    "\n",
    "loan['FICO_Range'] = ((loan.FICO_Range.str[0:3].astype(int))+(loan.FICO_Range.str[4:].astype(int)))/2"
   ]
  },
  {
   "cell_type": "markdown",
   "id": "4079f71b",
   "metadata": {},
   "source": [
    "##### a. Interest rate is varied for different loan amounts (Less intrest charged for high loan amounts)"
   ]
  },
  {
   "cell_type": "markdown",
   "id": "2c8ad4e7",
   "metadata": {},
   "source": [
    "i. Null Hypothesis HO: Interest rate is same for different loan amounts\n",
    "\n",
    "ii. Alternate Hypothesis Ha: Interest rates are different for different loan amounts\n",
    "\n",
    "iii. CI = 95%\n",
    "     p value = 0.05\n",
    "\n",
    "iv. Test: Pearsonr (co-relation)"
   ]
  },
  {
   "cell_type": "code",
   "execution_count": 26,
   "id": "23ad98c4",
   "metadata": {},
   "outputs": [
    {
     "data": {
      "text/plain": [
       "PearsonRResult(statistic=0.3315955311036452, pvalue=5.064256950483673e-63)"
      ]
     },
     "execution_count": 26,
     "metadata": {},
     "output_type": "execute_result"
    }
   ],
   "source": [
    "stats.pearsonr(loan['Interest_Rate'], loan['Amount_Funded_By_Investors'])"
   ]
  },
  {
   "cell_type": "markdown",
   "id": "452ce34b",
   "metadata": {},
   "source": [
    "v. Acceptance/Rejection: p value in the output < assumed p value i.e 0.05, hence rejecting the Null Hypothesis\n",
    "\n",
    "vi. Conclusion: Interest rate is different for different loan amounts"
   ]
  },
  {
   "cell_type": "markdown",
   "id": "0e2d6130",
   "metadata": {},
   "source": [
    "##### b. Loan length is directly effecting interest rate."
   ]
  },
  {
   "cell_type": "markdown",
   "id": "355f1806",
   "metadata": {},
   "source": [
    "i. Null Hypothesis HO: Loan length does not affect interest rate\n",
    "\n",
    "ii. Alternate Hypothesis Ha: Loan length is directly affecting interest rate\n",
    "\n",
    "iii. CI = 95%\n",
    "     p value = 0.05\n",
    "\n",
    "iv. Test: t-test"
   ]
  },
  {
   "cell_type": "code",
   "execution_count": 27,
   "id": "677ba7d5",
   "metadata": {},
   "outputs": [
    {
     "data": {
      "text/plain": [
       "36 months    1876\n",
       "60 months     537\n",
       "Name: Loan_Length, dtype: int64"
      ]
     },
     "execution_count": 27,
     "metadata": {},
     "output_type": "execute_result"
    }
   ],
   "source": [
    "loan.Loan_Length.value_counts()"
   ]
  },
  {
   "cell_type": "code",
   "execution_count": 28,
   "id": "55092835",
   "metadata": {},
   "outputs": [],
   "source": [
    "# creating groups for diff loan lenghths"
   ]
  },
  {
   "cell_type": "code",
   "execution_count": 29,
   "id": "1f4fe1c2",
   "metadata": {},
   "outputs": [],
   "source": [
    "short_loan = loan.loc[loan['Loan_Length'] == '36 months', 'Interest_Rate']\n",
    "\n",
    "long_loan = loan.loc[loan['Loan_Length'] == '60 months', 'Interest_Rate']"
   ]
  },
  {
   "cell_type": "code",
   "execution_count": 31,
   "id": "76aa8a71",
   "metadata": {},
   "outputs": [
    {
     "data": {
      "text/plain": [
       "Ttest_indResult(statistic=-23.05779328482699, pvalue=1.79380106734165e-106)"
      ]
     },
     "execution_count": 31,
     "metadata": {},
     "output_type": "execute_result"
    }
   ],
   "source": [
    "stats.ttest_ind(short_loan, long_loan)"
   ]
  },
  {
   "cell_type": "markdown",
   "id": "4e674f33",
   "metadata": {},
   "source": [
    "v. Acceptance/Rejection: p value in the output < assumed p value i.e 0.05, hence rejecting the Null Hypothesis\n",
    "\n",
    "vi. Conclusion: Loan length is directly affecting the interest rate"
   ]
  },
  {
   "cell_type": "markdown",
   "id": "f80b2caa",
   "metadata": {},
   "source": [
    "##### c.  Interest rate varies for different purpose of loans"
   ]
  },
  {
   "cell_type": "code",
   "execution_count": 34,
   "id": "b4c33c89",
   "metadata": {},
   "outputs": [
    {
     "data": {
      "text/html": [
       "<div>\n",
       "<style scoped>\n",
       "    .dataframe tbody tr th:only-of-type {\n",
       "        vertical-align: middle;\n",
       "    }\n",
       "\n",
       "    .dataframe tbody tr th {\n",
       "        vertical-align: top;\n",
       "    }\n",
       "\n",
       "    .dataframe thead th {\n",
       "        text-align: right;\n",
       "    }\n",
       "</style>\n",
       "<table border=\"1\" class=\"dataframe\">\n",
       "  <thead>\n",
       "    <tr style=\"text-align: right;\">\n",
       "      <th></th>\n",
       "      <th>Amount_Requested</th>\n",
       "      <th>Amount_Funded_By_Investors</th>\n",
       "      <th>Interest_Rate</th>\n",
       "      <th>Loan_Length</th>\n",
       "      <th>Loan_Purpose</th>\n",
       "      <th>Debt_To_Income_Ratio</th>\n",
       "      <th>State</th>\n",
       "      <th>Home_Ownership</th>\n",
       "      <th>Monthly_Income</th>\n",
       "      <th>FICO_Range</th>\n",
       "      <th>Open_CREDIT_Lines</th>\n",
       "      <th>Revolving_CREDIT_Balance</th>\n",
       "      <th>Inquiries_in_the_Last_6_Months</th>\n",
       "    </tr>\n",
       "  </thead>\n",
       "  <tbody>\n",
       "    <tr>\n",
       "      <th>0</th>\n",
       "      <td>20000.0</td>\n",
       "      <td>20000.0</td>\n",
       "      <td>8.90</td>\n",
       "      <td>36 months</td>\n",
       "      <td>debt_consolidation</td>\n",
       "      <td>14.90</td>\n",
       "      <td>SC</td>\n",
       "      <td>MORTGAGE</td>\n",
       "      <td>6541.67</td>\n",
       "      <td>737.0</td>\n",
       "      <td>14.0</td>\n",
       "      <td>14272.0</td>\n",
       "      <td>2.0</td>\n",
       "    </tr>\n",
       "    <tr>\n",
       "      <th>1</th>\n",
       "      <td>19200.0</td>\n",
       "      <td>19200.0</td>\n",
       "      <td>12.12</td>\n",
       "      <td>36 months</td>\n",
       "      <td>debt_consolidation</td>\n",
       "      <td>28.36</td>\n",
       "      <td>TX</td>\n",
       "      <td>MORTGAGE</td>\n",
       "      <td>4583.33</td>\n",
       "      <td>717.0</td>\n",
       "      <td>12.0</td>\n",
       "      <td>11140.0</td>\n",
       "      <td>1.0</td>\n",
       "    </tr>\n",
       "  </tbody>\n",
       "</table>\n",
       "</div>"
      ],
      "text/plain": [
       "   Amount_Requested  Amount_Funded_By_Investors  Interest_Rate Loan_Length  \\\n",
       "0           20000.0                     20000.0           8.90   36 months   \n",
       "1           19200.0                     19200.0          12.12   36 months   \n",
       "\n",
       "         Loan_Purpose  Debt_To_Income_Ratio State Home_Ownership  \\\n",
       "0  debt_consolidation                 14.90    SC       MORTGAGE   \n",
       "1  debt_consolidation                 28.36    TX       MORTGAGE   \n",
       "\n",
       "   Monthly_Income  FICO_Range  Open_CREDIT_Lines  Revolving_CREDIT_Balance  \\\n",
       "0         6541.67       737.0               14.0                   14272.0   \n",
       "1         4583.33       717.0               12.0                   11140.0   \n",
       "\n",
       "   Inquiries_in_the_Last_6_Months  \n",
       "0                             2.0  \n",
       "1                             1.0  "
      ]
     },
     "execution_count": 34,
     "metadata": {},
     "output_type": "execute_result"
    }
   ],
   "source": [
    "loan.head(2)"
   ]
  },
  {
   "cell_type": "code",
   "execution_count": 33,
   "id": "fd1b3339",
   "metadata": {},
   "outputs": [
    {
     "data": {
      "text/plain": [
       "debt_consolidation    1262\n",
       "credit_card            430\n",
       "other                  189\n",
       "home_improvement       147\n",
       "major_purchase         100\n",
       "small_business          83\n",
       "car                     50\n",
       "wedding                 37\n",
       "moving                  29\n",
       "medical                 28\n",
       "vacation                20\n",
       "house                   20\n",
       "educational             14\n",
       "renewable_energy         4\n",
       "Name: Loan_Purpose, dtype: int64"
      ]
     },
     "execution_count": 33,
     "metadata": {},
     "output_type": "execute_result"
    }
   ],
   "source": [
    "loan['Loan_Purpose'].value_counts()"
   ]
  },
  {
   "cell_type": "markdown",
   "id": "979d3c46",
   "metadata": {},
   "source": [
    "i. Null Hypothesis HO: Interest rate does not vary for different loan purposes\n",
    "\n",
    "ii. Alternate Hypothesis Ha: Interest rate varies for different loan purposes\n",
    "\n",
    "iii. CI = 95%\n",
    "     p value = 0.05\n",
    "\n",
    "iv. Test: spearsman rank"
   ]
  },
  {
   "cell_type": "code",
   "execution_count": 35,
   "id": "080d44f9",
   "metadata": {},
   "outputs": [
    {
     "data": {
      "text/plain": [
       "SignificanceResult(statistic=-0.05369361470239015, pvalue=0.008337443233367109)"
      ]
     },
     "execution_count": 35,
     "metadata": {},
     "output_type": "execute_result"
    }
   ],
   "source": [
    "stats.spearmanr(loan['Loan_Purpose'],loan['Interest_Rate'])"
   ]
  },
  {
   "cell_type": "markdown",
   "id": "5edc5361",
   "metadata": {},
   "source": [
    "v. Acceptance/Rejection: p value in the output < assumed p value i.e 0.05, hence rejecting the Null Hypothesis\n",
    "\n",
    "vi. Conclusion: Interest rate varies for different loan purposes"
   ]
  },
  {
   "cell_type": "markdown",
   "id": "350f9b23",
   "metadata": {},
   "source": [
    "##### d. There is relationship between FICO scores and Home Ownership. It means that, People with owning home will have high FICO scores."
   ]
  },
  {
   "cell_type": "markdown",
   "id": "3a3a47e4",
   "metadata": {},
   "source": [
    "i. Null Hypothesis HO: No relationship between FICO scores and Home Ownership.\n",
    "\n",
    "ii. Alternate Hypothesis Ha: There is a relationship between FICO scores and Home Ownership\n",
    "\n",
    "iii. CI = 95%\n",
    "     p value = 0.05\n",
    "\n",
    "iv. Test: F- test, ANOVA"
   ]
  },
  {
   "cell_type": "code",
   "execution_count": 37,
   "id": "feba9f50",
   "metadata": {},
   "outputs": [
    {
     "data": {
      "text/plain": [
       "RENT        1110\n",
       "MORTGAGE    1109\n",
       "OWN          189\n",
       "OTHER          5\n",
       "Name: Home_Ownership, dtype: int64"
      ]
     },
     "execution_count": 37,
     "metadata": {},
     "output_type": "execute_result"
    }
   ],
   "source": [
    "loan.Home_Ownership.value_counts()"
   ]
  },
  {
   "cell_type": "code",
   "execution_count": 39,
   "id": "ea460c9b",
   "metadata": {},
   "outputs": [],
   "source": [
    "rent = loan.loc[loan['Home_Ownership'] == 'RENT', 'FICO_Range']\n",
    "mortgage = loan.loc[loan['Home_Ownership'] == 'MORTGAGE', 'FICO_Range']\n",
    "own =  loan.loc[loan['Home_Ownership'] == 'OWN', 'FICO_Range']\n",
    "other = loan.loc[loan['Home_Ownership'] == 'OTHER', 'FICO_Range']"
   ]
  },
  {
   "cell_type": "code",
   "execution_count": 40,
   "id": "fe02355a",
   "metadata": {},
   "outputs": [
    {
     "data": {
      "text/plain": [
       "F_onewayResult(statistic=20.65464665222211, pvalue=3.2682005447315283e-13)"
      ]
     },
     "execution_count": 40,
     "metadata": {},
     "output_type": "execute_result"
    }
   ],
   "source": [
    "stats.f_oneway(rent, mortgage, own, other)"
   ]
  },
  {
   "cell_type": "markdown",
   "id": "aad31469",
   "metadata": {},
   "source": [
    "v. Acceptance/Rejection: p value in the output < assumed p value i.e 0.05, hence rejecting the Null Hypothesis\n",
    "\n",
    "vi. Conclusion: There is a relationship between FICO scores and Home Ownership that is, people owning home may have high FICO score"
   ]
  },
  {
   "cell_type": "markdown",
   "id": "ea7d4bcf",
   "metadata": {},
   "source": [
    "#### Business Problem 2"
   ]
  },
  {
   "cell_type": "code",
   "execution_count": 41,
   "id": "a041319a",
   "metadata": {},
   "outputs": [],
   "source": [
    "price_quote = pd.read_csv(r\"C:\\Users\\kavir\\OneDrive\\Documents\\Business Analytics\\python\\case study\\4. Basic Statistics - Hypothesis Testing\\Price_Quotes.csv\")"
   ]
  },
  {
   "cell_type": "code",
   "execution_count": 42,
   "id": "8986d0ee",
   "metadata": {},
   "outputs": [
    {
     "data": {
      "text/html": [
       "<div>\n",
       "<style scoped>\n",
       "    .dataframe tbody tr th:only-of-type {\n",
       "        vertical-align: middle;\n",
       "    }\n",
       "\n",
       "    .dataframe tbody tr th {\n",
       "        vertical-align: top;\n",
       "    }\n",
       "\n",
       "    .dataframe thead th {\n",
       "        text-align: right;\n",
       "    }\n",
       "</style>\n",
       "<table border=\"1\" class=\"dataframe\">\n",
       "  <thead>\n",
       "    <tr style=\"text-align: right;\">\n",
       "      <th></th>\n",
       "      <th>Order_Number</th>\n",
       "      <th>Barry_Price</th>\n",
       "      <th>Mary_Price</th>\n",
       "    </tr>\n",
       "  </thead>\n",
       "  <tbody>\n",
       "    <tr>\n",
       "      <th>0</th>\n",
       "      <td>1</td>\n",
       "      <td>126</td>\n",
       "      <td>114</td>\n",
       "    </tr>\n",
       "    <tr>\n",
       "      <th>1</th>\n",
       "      <td>2</td>\n",
       "      <td>110</td>\n",
       "      <td>118</td>\n",
       "    </tr>\n",
       "    <tr>\n",
       "      <th>2</th>\n",
       "      <td>3</td>\n",
       "      <td>138</td>\n",
       "      <td>114</td>\n",
       "    </tr>\n",
       "    <tr>\n",
       "      <th>3</th>\n",
       "      <td>4</td>\n",
       "      <td>142</td>\n",
       "      <td>111</td>\n",
       "    </tr>\n",
       "    <tr>\n",
       "      <th>4</th>\n",
       "      <td>5</td>\n",
       "      <td>146</td>\n",
       "      <td>129</td>\n",
       "    </tr>\n",
       "    <tr>\n",
       "      <th>5</th>\n",
       "      <td>6</td>\n",
       "      <td>136</td>\n",
       "      <td>119</td>\n",
       "    </tr>\n",
       "    <tr>\n",
       "      <th>6</th>\n",
       "      <td>7</td>\n",
       "      <td>94</td>\n",
       "      <td>97</td>\n",
       "    </tr>\n",
       "    <tr>\n",
       "      <th>7</th>\n",
       "      <td>8</td>\n",
       "      <td>103</td>\n",
       "      <td>104</td>\n",
       "    </tr>\n",
       "    <tr>\n",
       "      <th>8</th>\n",
       "      <td>9</td>\n",
       "      <td>140</td>\n",
       "      <td>127</td>\n",
       "    </tr>\n",
       "    <tr>\n",
       "      <th>9</th>\n",
       "      <td>10</td>\n",
       "      <td>152</td>\n",
       "      <td>133</td>\n",
       "    </tr>\n",
       "    <tr>\n",
       "      <th>10</th>\n",
       "      <td>11</td>\n",
       "      <td>108</td>\n",
       "      <td>103</td>\n",
       "    </tr>\n",
       "    <tr>\n",
       "      <th>11</th>\n",
       "      <td>12</td>\n",
       "      <td>97</td>\n",
       "      <td>108</td>\n",
       "    </tr>\n",
       "  </tbody>\n",
       "</table>\n",
       "</div>"
      ],
      "text/plain": [
       "    Order_Number  Barry_Price  Mary_Price\n",
       "0              1          126         114\n",
       "1              2          110         118\n",
       "2              3          138         114\n",
       "3              4          142         111\n",
       "4              5          146         129\n",
       "5              6          136         119\n",
       "6              7           94          97\n",
       "7              8          103         104\n",
       "8              9          140         127\n",
       "9             10          152         133\n",
       "10            11          108         103\n",
       "11            12           97         108"
      ]
     },
     "execution_count": 42,
     "metadata": {},
     "output_type": "execute_result"
    }
   ],
   "source": [
    "price_quote"
   ]
  },
  {
   "cell_type": "markdown",
   "id": "4bdbef7b",
   "metadata": {},
   "source": [
    "##### a. if there is any difference in the average price quotes provided by Mary and Barry."
   ]
  },
  {
   "cell_type": "markdown",
   "id": "46eb4871",
   "metadata": {},
   "source": [
    "i. Null Hypothesis HO: No difference between the average price quotes provided by Mary and Barry\n",
    "\n",
    "ii. Alternate Hypothesis Ha: There is a difference between the avg price quotes provided by Mary and Barry\n",
    "\n",
    "iii. CI = 95%\n",
    "     p value = 0.05\n",
    "\n",
    "iv. Test: t-test"
   ]
  },
  {
   "cell_type": "code",
   "execution_count": 43,
   "id": "dc2e441c",
   "metadata": {},
   "outputs": [
    {
     "data": {
      "text/plain": [
       "Ttest_indResult(statistic=1.4147436739281787, pvalue=0.17114226132118285)"
      ]
     },
     "execution_count": 43,
     "metadata": {},
     "output_type": "execute_result"
    }
   ],
   "source": [
    "stats.ttest_ind(price_quote['Barry_Price'], price_quote['Mary_Price'])"
   ]
  },
  {
   "cell_type": "markdown",
   "id": "38657b54",
   "metadata": {},
   "source": [
    "v. Acceptance/Rejection: p value in the output > assumed p value i.e 0.05, hence accepting the Null Hypothesis\n",
    "\n",
    "vi. Conclusion: There is No difference between the average price quotes provided by Mary and Barry"
   ]
  },
  {
   "cell_type": "markdown",
   "id": "c08a531d",
   "metadata": {},
   "source": [
    "#### Business Problem 3"
   ]
  },
  {
   "cell_type": "code",
   "execution_count": 44,
   "id": "4f85741a",
   "metadata": {},
   "outputs": [],
   "source": [
    "Treatment = pd.read_csv(r\"C:\\Users\\kavir\\OneDrive\\Documents\\Business Analytics\\python\\case study\\4. Basic Statistics - Hypothesis Testing\\Treatment_Facility.csv\")"
   ]
  },
  {
   "cell_type": "code",
   "execution_count": 45,
   "id": "95544465",
   "metadata": {},
   "outputs": [
    {
     "data": {
      "text/html": [
       "<div>\n",
       "<style scoped>\n",
       "    .dataframe tbody tr th:only-of-type {\n",
       "        vertical-align: middle;\n",
       "    }\n",
       "\n",
       "    .dataframe tbody tr th {\n",
       "        vertical-align: top;\n",
       "    }\n",
       "\n",
       "    .dataframe thead th {\n",
       "        text-align: right;\n",
       "    }\n",
       "</style>\n",
       "<table border=\"1\" class=\"dataframe\">\n",
       "  <thead>\n",
       "    <tr style=\"text-align: right;\">\n",
       "      <th></th>\n",
       "      <th>Month</th>\n",
       "      <th>Reengineer</th>\n",
       "      <th>Employee_Turnover</th>\n",
       "      <th>VAR4</th>\n",
       "      <th>VAR5</th>\n",
       "    </tr>\n",
       "  </thead>\n",
       "  <tbody>\n",
       "    <tr>\n",
       "      <th>0</th>\n",
       "      <td>1</td>\n",
       "      <td>Prior</td>\n",
       "      <td>0.0000</td>\n",
       "      <td>24.390244</td>\n",
       "      <td>42.682927</td>\n",
       "    </tr>\n",
       "    <tr>\n",
       "      <th>1</th>\n",
       "      <td>2</td>\n",
       "      <td>Prior</td>\n",
       "      <td>6.0606</td>\n",
       "      <td>19.354839</td>\n",
       "      <td>25.806452</td>\n",
       "    </tr>\n",
       "  </tbody>\n",
       "</table>\n",
       "</div>"
      ],
      "text/plain": [
       "   Month Reengineer  Employee_Turnover       VAR4       VAR5\n",
       "0      1      Prior             0.0000  24.390244  42.682927\n",
       "1      2      Prior             6.0606  19.354839  25.806452"
      ]
     },
     "execution_count": 45,
     "metadata": {},
     "output_type": "execute_result"
    }
   ],
   "source": [
    "Treatment.head(2)"
   ]
  },
  {
   "cell_type": "markdown",
   "id": "ed2a2eb2",
   "metadata": {},
   "source": [
    "##### a. To determine if the reengineering effort changed the critical incidence rate. (VAR5)"
   ]
  },
  {
   "cell_type": "markdown",
   "id": "943f7575",
   "metadata": {},
   "source": [
    "i. Null Hypothesis HO: There was no change in the CI rate after reengineering\n",
    "\n",
    "ii. Alternate Hypothesis Ha: There was a change in CI rate after reengineering\n",
    "\n",
    "iii. CI = 95%\n",
    "     p value = 0.05\n",
    "\n",
    "iv. Test: t-test"
   ]
  },
  {
   "cell_type": "code",
   "execution_count": 47,
   "id": "146d80fb",
   "metadata": {},
   "outputs": [],
   "source": [
    "CI_pre = Treatment.loc[Treatment['Reengineer'] == 'Prior', 'VAR5']\n",
    "CI_post = Treatment.loc[Treatment['Reengineer'] == 'Post', 'VAR5']"
   ]
  },
  {
   "cell_type": "code",
   "execution_count": 48,
   "id": "ad14f73f",
   "metadata": {},
   "outputs": [
    {
     "data": {
      "text/plain": [
       "Ttest_indResult(statistic=1.627914425352865, pvalue=0.12091989189884148)"
      ]
     },
     "execution_count": 48,
     "metadata": {},
     "output_type": "execute_result"
    }
   ],
   "source": [
    "stats.ttest_ind(CI_pre, CI_post)"
   ]
  },
  {
   "cell_type": "markdown",
   "id": "1e61c0b6",
   "metadata": {},
   "source": [
    "v. Acceptance/Rejection: p value in the output > assumed p value i.e 0.05, hence accepting the Null Hypothesis\n",
    "\n",
    "vi. Conclusion: There is No change in the CI rate even after reengineering"
   ]
  },
  {
   "cell_type": "markdown",
   "id": "9246aafe",
   "metadata": {},
   "source": [
    "##### b. if the reengineering effort had effect on the staff turnover"
   ]
  },
  {
   "cell_type": "markdown",
   "id": "0f7c5056",
   "metadata": {},
   "source": [
    "i. Null Hypothesis HO: There was no effect on the staff turnover after reengineering effort\n",
    "\n",
    "ii. Alternate Hypothesis Ha: There was an effect on the staff turnover after reengineering effort\n",
    "\n",
    "iii. CI = 95%\n",
    "     p value = 0.05\n",
    "\n",
    "iv. Test: t-test"
   ]
  },
  {
   "cell_type": "code",
   "execution_count": 50,
   "id": "93eb49c6",
   "metadata": {},
   "outputs": [],
   "source": [
    "staff_pre = Treatment.loc[Treatment['Reengineer'] == 'Prior', 'Employee_Turnover']\n",
    "staff_post = Treatment.loc[Treatment['Reengineer'] == 'Post', 'Employee_Turnover']"
   ]
  },
  {
   "cell_type": "code",
   "execution_count": 51,
   "id": "5ad87b7e",
   "metadata": {},
   "outputs": [
    {
     "data": {
      "text/plain": [
       "Ttest_indResult(statistic=-1.770306704753604, pvalue=0.09361109345535304)"
      ]
     },
     "execution_count": 51,
     "metadata": {},
     "output_type": "execute_result"
    }
   ],
   "source": [
    "stats.ttest_ind(staff_pre, staff_post)"
   ]
  },
  {
   "cell_type": "markdown",
   "id": "f0c29326",
   "metadata": {},
   "source": [
    "v. Acceptance/Rejection: p value in the output > assumed p value i.e 0.05, hence accepting the Null Hypothesis\n",
    "\n",
    "vi. Conclusion: There was no effect on the staff turnover after reengineering"
   ]
  },
  {
   "cell_type": "markdown",
   "id": "7227f111",
   "metadata": {},
   "source": [
    "#### Business Problem 4"
   ]
  },
  {
   "cell_type": "code",
   "execution_count": 54,
   "id": "32fb5ced",
   "metadata": {},
   "outputs": [],
   "source": [
    "data = pd.read_csv(r\"C:\\Users\\kavir\\OneDrive\\Documents\\Business Analytics\\python\\case study\\4. Basic Statistics - Hypothesis Testing\\Priority_Assessment.csv\")"
   ]
  },
  {
   "cell_type": "code",
   "execution_count": 55,
   "id": "35518c90",
   "metadata": {},
   "outputs": [
    {
     "data": {
      "text/html": [
       "<div>\n",
       "<style scoped>\n",
       "    .dataframe tbody tr th:only-of-type {\n",
       "        vertical-align: middle;\n",
       "    }\n",
       "\n",
       "    .dataframe tbody tr th {\n",
       "        vertical-align: top;\n",
       "    }\n",
       "\n",
       "    .dataframe thead th {\n",
       "        text-align: right;\n",
       "    }\n",
       "</style>\n",
       "<table border=\"1\" class=\"dataframe\">\n",
       "  <thead>\n",
       "    <tr style=\"text-align: right;\">\n",
       "      <th></th>\n",
       "      <th>Days</th>\n",
       "      <th>Priority</th>\n",
       "    </tr>\n",
       "  </thead>\n",
       "  <tbody>\n",
       "    <tr>\n",
       "      <th>0</th>\n",
       "      <td>3.3</td>\n",
       "      <td>High</td>\n",
       "    </tr>\n",
       "    <tr>\n",
       "      <th>1</th>\n",
       "      <td>7.9</td>\n",
       "      <td>Medium</td>\n",
       "    </tr>\n",
       "    <tr>\n",
       "      <th>2</th>\n",
       "      <td>0.3</td>\n",
       "      <td>High</td>\n",
       "    </tr>\n",
       "    <tr>\n",
       "      <th>3</th>\n",
       "      <td>0.7</td>\n",
       "      <td>Medium</td>\n",
       "    </tr>\n",
       "    <tr>\n",
       "      <th>4</th>\n",
       "      <td>8.6</td>\n",
       "      <td>Medium</td>\n",
       "    </tr>\n",
       "  </tbody>\n",
       "</table>\n",
       "</div>"
      ],
      "text/plain": [
       "   Days Priority\n",
       "0   3.3     High\n",
       "1   7.9   Medium\n",
       "2   0.3     High\n",
       "3   0.7   Medium\n",
       "4   8.6   Medium"
      ]
     },
     "execution_count": 55,
     "metadata": {},
     "output_type": "execute_result"
    }
   ],
   "source": [
    "data. head()"
   ]
  },
  {
   "cell_type": "markdown",
   "id": "0e9dbe48",
   "metadata": {},
   "source": [
    "##### a. Check, If the system is working, then high priority jobs, on average, should be completed more quickly than medium priority jobs,and medium priority jobs should be completed more quickly than low priority jobs"
   ]
  },
  {
   "cell_type": "markdown",
   "id": "9ddd8f8c",
   "metadata": {},
   "source": [
    "i. Null Hypothesis HO: Tasks not getting completed on priority.\n",
    "\n",
    "ii. Alternate Hypothesis Ha: Tasks getting completed on priority, High priority then medium then low\n",
    "\n",
    "iii. CI = 95%\n",
    "     p value = 0.05\n",
    "\n",
    "iv. Test: t-test"
   ]
  },
  {
   "cell_type": "code",
   "execution_count": 56,
   "id": "756cfefd",
   "metadata": {},
   "outputs": [],
   "source": [
    "high = data.loc[data['Priority'] == 'High', 'Days']\n",
    "medium = data.loc[data['Priority'] == 'Medium', 'Days']\n",
    "low = data.loc[data['Priority'] == 'Low', 'Days']"
   ]
  },
  {
   "cell_type": "code",
   "execution_count": 57,
   "id": "7e8f6f43",
   "metadata": {},
   "outputs": [
    {
     "data": {
      "text/plain": [
       "F_onewayResult(statistic=1.812311010076072, pvalue=0.16411459461716182)"
      ]
     },
     "execution_count": 57,
     "metadata": {},
     "output_type": "execute_result"
    }
   ],
   "source": [
    "stats.f_oneway(high,medium, low)"
   ]
  },
  {
   "cell_type": "markdown",
   "id": "b34514b0",
   "metadata": {},
   "source": [
    "v. Acceptance/Rejection: p value in the output > assumed p value i.e 0.05, hence accepting the Null Hypothesis\n",
    "\n",
    "vi. Conclusion: The tasks are not getting completed as per priority, high > medium > low"
   ]
  },
  {
   "cell_type": "markdown",
   "id": "27fd4c3d",
   "metadata": {},
   "source": [
    "#### Business Problem 5"
   ]
  },
  {
   "cell_type": "code",
   "execution_count": 58,
   "id": "90da8457",
   "metadata": {},
   "outputs": [],
   "source": [
    "Films = pd.read_csv(r\"C:\\Users\\kavir\\OneDrive\\Documents\\Business Analytics\\python\\case study\\4. Basic Statistics - Hypothesis Testing\\Films.csv\")"
   ]
  },
  {
   "cell_type": "code",
   "execution_count": 60,
   "id": "046b06a5",
   "metadata": {},
   "outputs": [
    {
     "data": {
      "text/html": [
       "<div>\n",
       "<style scoped>\n",
       "    .dataframe tbody tr th:only-of-type {\n",
       "        vertical-align: middle;\n",
       "    }\n",
       "\n",
       "    .dataframe tbody tr th {\n",
       "        vertical-align: top;\n",
       "    }\n",
       "\n",
       "    .dataframe thead th {\n",
       "        text-align: right;\n",
       "    }\n",
       "</style>\n",
       "<table border=\"1\" class=\"dataframe\">\n",
       "  <thead>\n",
       "    <tr style=\"text-align: right;\">\n",
       "      <th></th>\n",
       "      <th>_rowstate_</th>\n",
       "      <th>Movie</th>\n",
       "      <th>Gender</th>\n",
       "      <th>Marital_Status</th>\n",
       "      <th>Sinage</th>\n",
       "      <th>Parking</th>\n",
       "      <th>Clean</th>\n",
       "      <th>Overall</th>\n",
       "      <th>Age</th>\n",
       "      <th>Income</th>\n",
       "      <th>Hear_About</th>\n",
       "    </tr>\n",
       "  </thead>\n",
       "  <tbody>\n",
       "    <tr>\n",
       "      <th>0</th>\n",
       "      <td>0</td>\n",
       "      <td>Ferris Buellers Day Off</td>\n",
       "      <td>Female</td>\n",
       "      <td>Married</td>\n",
       "      <td>2.0</td>\n",
       "      <td>2.0</td>\n",
       "      <td>2.0</td>\n",
       "      <td>2.0</td>\n",
       "      <td>3.0</td>\n",
       "      <td>1.0</td>\n",
       "      <td>5</td>\n",
       "    </tr>\n",
       "    <tr>\n",
       "      <th>1</th>\n",
       "      <td>0</td>\n",
       "      <td>Ferris Buellers Day Off</td>\n",
       "      <td>Female</td>\n",
       "      <td>Single</td>\n",
       "      <td>1.0</td>\n",
       "      <td>1.0</td>\n",
       "      <td>1.0</td>\n",
       "      <td>1.0</td>\n",
       "      <td>2.0</td>\n",
       "      <td>1.0</td>\n",
       "      <td>5</td>\n",
       "    </tr>\n",
       "    <tr>\n",
       "      <th>2</th>\n",
       "      <td>0</td>\n",
       "      <td>Ferris Buellers Day Off</td>\n",
       "      <td>Male</td>\n",
       "      <td>Married</td>\n",
       "      <td>2.0</td>\n",
       "      <td>4.0</td>\n",
       "      <td>3.0</td>\n",
       "      <td>2.0</td>\n",
       "      <td>4.0</td>\n",
       "      <td>1.0</td>\n",
       "      <td>5</td>\n",
       "    </tr>\n",
       "  </tbody>\n",
       "</table>\n",
       "</div>"
      ],
      "text/plain": [
       "   _rowstate_                    Movie  Gender Marital_Status  Sinage  \\\n",
       "0           0  Ferris Buellers Day Off  Female        Married     2.0   \n",
       "1           0  Ferris Buellers Day Off  Female         Single     1.0   \n",
       "2           0  Ferris Buellers Day Off    Male        Married     2.0   \n",
       "\n",
       "   Parking  Clean  Overall  Age  Income Hear_About  \n",
       "0      2.0    2.0      2.0  3.0     1.0          5  \n",
       "1      1.0    1.0      1.0  2.0     1.0          5  \n",
       "2      4.0    3.0      2.0  4.0     1.0          5  "
      ]
     },
     "execution_count": 60,
     "metadata": {},
     "output_type": "execute_result"
    }
   ],
   "source": [
    "Films.head(3)"
   ]
  },
  {
   "cell_type": "code",
   "execution_count": 61,
   "id": "6e6e0dcc",
   "metadata": {},
   "outputs": [
    {
     "data": {
      "text/plain": [
       "_rowstate_         0\n",
       "Movie              0\n",
       "Gender             0\n",
       "Marital_Status     2\n",
       "Sinage             2\n",
       "Parking            2\n",
       "Clean              3\n",
       "Overall            2\n",
       "Age                2\n",
       "Income            16\n",
       "Hear_About         7\n",
       "dtype: int64"
      ]
     },
     "execution_count": 61,
     "metadata": {},
     "output_type": "execute_result"
    }
   ],
   "source": [
    "# checking for null values\n",
    "\n",
    "Films.isnull().sum()"
   ]
  },
  {
   "cell_type": "code",
   "execution_count": 62,
   "id": "f340391b",
   "metadata": {},
   "outputs": [],
   "source": [
    "for i in Films.columns:\n",
    "    Films[i]=Films[i].fillna(Films[i].mode()[0])  "
   ]
  },
  {
   "cell_type": "code",
   "execution_count": 63,
   "id": "43dbc886",
   "metadata": {},
   "outputs": [
    {
     "data": {
      "text/plain": [
       "_rowstate_        0\n",
       "Movie             0\n",
       "Gender            0\n",
       "Marital_Status    0\n",
       "Sinage            0\n",
       "Parking           0\n",
       "Clean             0\n",
       "Overall           0\n",
       "Age               0\n",
       "Income            0\n",
       "Hear_About        0\n",
       "dtype: int64"
      ]
     },
     "execution_count": 63,
     "metadata": {},
     "output_type": "execute_result"
    }
   ],
   "source": [
    "Films.isnull().sum()"
   ]
  },
  {
   "cell_type": "code",
   "execution_count": 64,
   "id": "0bb04b24",
   "metadata": {},
   "outputs": [
    {
     "data": {
      "text/plain": [
       "2         194\n",
       "1         104\n",
       "Female     19\n",
       "Male       13\n",
       "Name: Gender, dtype: int64"
      ]
     },
     "execution_count": 64,
     "metadata": {},
     "output_type": "execute_result"
    }
   ],
   "source": [
    "Films.Gender.value_counts()"
   ]
  },
  {
   "cell_type": "code",
   "execution_count": 65,
   "id": "472e1f7c",
   "metadata": {},
   "outputs": [],
   "source": [
    "Films.Gender=np.where((Films.Gender == 'Male') | (Films.Gender == '1'),\"Male\",\"Female\")"
   ]
  },
  {
   "cell_type": "code",
   "execution_count": 67,
   "id": "27cca4c5",
   "metadata": {},
   "outputs": [
    {
     "data": {
      "text/plain": [
       "Female    213\n",
       "Male      117\n",
       "Name: Gender, dtype: int64"
      ]
     },
     "execution_count": 67,
     "metadata": {},
     "output_type": "execute_result"
    }
   ],
   "source": [
    "Films.Gender.value_counts()"
   ]
  },
  {
   "cell_type": "code",
   "execution_count": 68,
   "id": "d85a07f6",
   "metadata": {},
   "outputs": [
    {
     "data": {
      "text/plain": [
       "2          210\n",
       "1           88\n",
       "Single      18\n",
       "Married     12\n",
       "Slngle       2\n",
       "Name: Marital_Status, dtype: int64"
      ]
     },
     "execution_count": 68,
     "metadata": {},
     "output_type": "execute_result"
    }
   ],
   "source": [
    "Films.Marital_Status.value_counts()"
   ]
  },
  {
   "cell_type": "code",
   "execution_count": 69,
   "id": "cdbbc6be",
   "metadata": {},
   "outputs": [],
   "source": [
    "Films.Marital_Status=np.where((Films.Marital_Status=='1') | (Films.Marital_Status=='Married') ,\"Married\",\"Single\" )"
   ]
  },
  {
   "cell_type": "code",
   "execution_count": 70,
   "id": "dbe84627",
   "metadata": {},
   "outputs": [
    {
     "data": {
      "text/plain": [
       "Single     230\n",
       "Married    100\n",
       "Name: Marital_Status, dtype: int64"
      ]
     },
     "execution_count": 70,
     "metadata": {},
     "output_type": "execute_result"
    }
   ],
   "source": [
    "Films.Marital_Status.value_counts()"
   ]
  },
  {
   "cell_type": "markdown",
   "id": "a5b62f84",
   "metadata": {},
   "source": [
    "###### a. What is the overall level of customer satisfaction?"
   ]
  },
  {
   "cell_type": "code",
   "execution_count": 65,
   "id": "39b0080f",
   "metadata": {
    "execution": {
     "iopub.execute_input": "2022-04-21T13:27:17.650104Z",
     "iopub.status.busy": "2022-04-21T13:27:17.649632Z",
     "iopub.status.idle": "2022-04-21T13:27:17.653520Z",
     "shell.execute_reply": "2022-04-21T13:27:17.652935Z"
    },
    "papermill": {
     "duration": 0.15741,
     "end_time": "2022-04-21T13:27:17.655584",
     "exception": false,
     "start_time": "2022-04-21T13:27:17.498174",
     "status": "completed"
    },
    "tags": []
   },
   "outputs": [],
   "source": [
    "mean=Films.Overall.mean()"
   ]
  },
  {
   "cell_type": "code",
   "execution_count": 66,
   "id": "2d939036",
   "metadata": {
    "execution": {
     "iopub.execute_input": "2022-04-21T13:27:17.958619Z",
     "iopub.status.busy": "2022-04-21T13:27:17.958134Z",
     "iopub.status.idle": "2022-04-21T13:27:17.962451Z",
     "shell.execute_reply": "2022-04-21T13:27:17.961841Z"
    },
    "papermill": {
     "duration": 0.158605,
     "end_time": "2022-04-21T13:27:17.965076",
     "exception": false,
     "start_time": "2022-04-21T13:27:17.806471",
     "status": "completed"
    },
    "tags": []
   },
   "outputs": [],
   "source": [
    "std=Films.Overall.std()"
   ]
  },
  {
   "cell_type": "code",
   "execution_count": 67,
   "id": "a1d596e7",
   "metadata": {
    "execution": {
     "iopub.execute_input": "2022-04-21T13:27:18.269382Z",
     "iopub.status.busy": "2022-04-21T13:27:18.268869Z",
     "iopub.status.idle": "2022-04-21T13:27:18.272942Z",
     "shell.execute_reply": "2022-04-21T13:27:18.272081Z"
    },
    "papermill": {
     "duration": 0.157336,
     "end_time": "2022-04-21T13:27:18.275148",
     "exception": false,
     "start_time": "2022-04-21T13:27:18.117812",
     "status": "completed"
    },
    "tags": []
   },
   "outputs": [],
   "source": [
    "SE=std/(np.sqrt(Films.shape[0]))"
   ]
  },
  {
   "cell_type": "code",
   "execution_count": 68,
   "id": "0775a04a",
   "metadata": {
    "execution": {
     "iopub.execute_input": "2022-04-21T13:27:18.601564Z",
     "iopub.status.busy": "2022-04-21T13:27:18.600898Z",
     "iopub.status.idle": "2022-04-21T13:27:18.606164Z",
     "shell.execute_reply": "2022-04-21T13:27:18.605447Z"
    },
    "papermill": {
     "duration": 0.169106,
     "end_time": "2022-04-21T13:27:18.610844",
     "exception": false,
     "start_time": "2022-04-21T13:27:18.441738",
     "status": "completed"
    },
    "tags": []
   },
   "outputs": [
    {
     "name": "stdout",
     "output_type": "stream",
     "text": [
      "with 95% confidence levels,the overall level of customer satisfaction will be in the range (1.5469994901816926,1.6954247522425496)\n"
     ]
    }
   ],
   "source": [
    "print(f'with 95% confidence levels,the overall level of customer satisfaction will be in the range ({mean-(1.96*SE)},{mean+(1.96*SE)})')"
   ]
  },
  {
   "cell_type": "markdown",
   "id": "32baae00",
   "metadata": {},
   "source": [
    "##### b. What factors are linked to satisfaction?"
   ]
  },
  {
   "cell_type": "code",
   "execution_count": 72,
   "id": "d4727b0e",
   "metadata": {
    "execution": {
     "iopub.execute_input": "2022-04-21T13:27:19.271625Z",
     "iopub.status.busy": "2022-04-21T13:27:19.271014Z",
     "iopub.status.idle": "2022-04-21T13:27:19.289363Z",
     "shell.execute_reply": "2022-04-21T13:27:19.288727Z"
    },
    "papermill": {
     "duration": 0.182201,
     "end_time": "2022-04-21T13:27:19.291500",
     "exception": false,
     "start_time": "2022-04-21T13:27:19.109299",
     "status": "completed"
    },
    "tags": []
   },
   "outputs": [
    {
     "data": {
      "text/html": [
       "<div>\n",
       "<style scoped>\n",
       "    .dataframe tbody tr th:only-of-type {\n",
       "        vertical-align: middle;\n",
       "    }\n",
       "\n",
       "    .dataframe tbody tr th {\n",
       "        vertical-align: top;\n",
       "    }\n",
       "\n",
       "    .dataframe thead th {\n",
       "        text-align: right;\n",
       "    }\n",
       "</style>\n",
       "<table border=\"1\" class=\"dataframe\">\n",
       "  <thead>\n",
       "    <tr style=\"text-align: right;\">\n",
       "      <th></th>\n",
       "      <th>_rowstate_</th>\n",
       "      <th>Movie</th>\n",
       "      <th>Gender</th>\n",
       "      <th>Marital_Status</th>\n",
       "      <th>Sinage</th>\n",
       "      <th>Parking</th>\n",
       "      <th>Clean</th>\n",
       "      <th>Overall</th>\n",
       "      <th>Age</th>\n",
       "      <th>Income</th>\n",
       "      <th>Hear_About</th>\n",
       "    </tr>\n",
       "  </thead>\n",
       "  <tbody>\n",
       "    <tr>\n",
       "      <th>0</th>\n",
       "      <td>0</td>\n",
       "      <td>Ferris Buellers Day Off</td>\n",
       "      <td>Female</td>\n",
       "      <td>Married</td>\n",
       "      <td>2.0</td>\n",
       "      <td>2.0</td>\n",
       "      <td>2.0</td>\n",
       "      <td>2.0</td>\n",
       "      <td>3.0</td>\n",
       "      <td>1.0</td>\n",
       "      <td>5</td>\n",
       "    </tr>\n",
       "    <tr>\n",
       "      <th>1</th>\n",
       "      <td>0</td>\n",
       "      <td>Ferris Buellers Day Off</td>\n",
       "      <td>Female</td>\n",
       "      <td>Single</td>\n",
       "      <td>1.0</td>\n",
       "      <td>1.0</td>\n",
       "      <td>1.0</td>\n",
       "      <td>1.0</td>\n",
       "      <td>2.0</td>\n",
       "      <td>1.0</td>\n",
       "      <td>5</td>\n",
       "    </tr>\n",
       "    <tr>\n",
       "      <th>2</th>\n",
       "      <td>0</td>\n",
       "      <td>Ferris Buellers Day Off</td>\n",
       "      <td>Male</td>\n",
       "      <td>Married</td>\n",
       "      <td>2.0</td>\n",
       "      <td>4.0</td>\n",
       "      <td>3.0</td>\n",
       "      <td>2.0</td>\n",
       "      <td>4.0</td>\n",
       "      <td>1.0</td>\n",
       "      <td>5</td>\n",
       "    </tr>\n",
       "    <tr>\n",
       "      <th>3</th>\n",
       "      <td>0</td>\n",
       "      <td>Ferris Buellers Day Off</td>\n",
       "      <td>Female</td>\n",
       "      <td>Married</td>\n",
       "      <td>1.0</td>\n",
       "      <td>3.0</td>\n",
       "      <td>2.0</td>\n",
       "      <td>2.0</td>\n",
       "      <td>4.0</td>\n",
       "      <td>1.0</td>\n",
       "      <td>5</td>\n",
       "    </tr>\n",
       "    <tr>\n",
       "      <th>4</th>\n",
       "      <td>0</td>\n",
       "      <td>Ferris Buellers Day Off</td>\n",
       "      <td>Female</td>\n",
       "      <td>Married</td>\n",
       "      <td>1.0</td>\n",
       "      <td>1.0</td>\n",
       "      <td>1.0</td>\n",
       "      <td>1.0</td>\n",
       "      <td>3.0</td>\n",
       "      <td>3.0</td>\n",
       "      <td>1</td>\n",
       "    </tr>\n",
       "  </tbody>\n",
       "</table>\n",
       "</div>"
      ],
      "text/plain": [
       "   _rowstate_                    Movie  Gender Marital_Status  Sinage  \\\n",
       "0           0  Ferris Buellers Day Off  Female        Married     2.0   \n",
       "1           0  Ferris Buellers Day Off  Female         Single     1.0   \n",
       "2           0  Ferris Buellers Day Off    Male        Married     2.0   \n",
       "3           0  Ferris Buellers Day Off  Female        Married     1.0   \n",
       "4           0  Ferris Buellers Day Off  Female        Married     1.0   \n",
       "\n",
       "   Parking  Clean  Overall  Age  Income Hear_About  \n",
       "0      2.0    2.0      2.0  3.0     1.0          5  \n",
       "1      1.0    1.0      1.0  2.0     1.0          5  \n",
       "2      4.0    3.0      2.0  4.0     1.0          5  \n",
       "3      3.0    2.0      2.0  4.0     1.0          5  \n",
       "4      1.0    1.0      1.0  3.0     3.0          1  "
      ]
     },
     "execution_count": 72,
     "metadata": {},
     "output_type": "execute_result"
    }
   ],
   "source": [
    "Films.head()"
   ]
  },
  {
   "cell_type": "code",
   "execution_count": 73,
   "id": "827d9602",
   "metadata": {
    "execution": {
     "iopub.execute_input": "2022-04-21T13:27:19.609396Z",
     "iopub.status.busy": "2022-04-21T13:27:19.609085Z",
     "iopub.status.idle": "2022-04-21T13:27:19.613167Z",
     "shell.execute_reply": "2022-04-21T13:27:19.612218Z"
    },
    "papermill": {
     "duration": 0.162863,
     "end_time": "2022-04-21T13:27:19.615254",
     "exception": false,
     "start_time": "2022-04-21T13:27:19.452391",
     "status": "completed"
    },
    "tags": []
   },
   "outputs": [],
   "source": [
    "# factor 1 = Movie"
   ]
  },
  {
   "cell_type": "code",
   "execution_count": 74,
   "id": "43cae7d2",
   "metadata": {
    "execution": {
     "iopub.execute_input": "2022-04-21T13:27:19.943369Z",
     "iopub.status.busy": "2022-04-21T13:27:19.942697Z",
     "iopub.status.idle": "2022-04-21T13:27:19.951502Z",
     "shell.execute_reply": "2022-04-21T13:27:19.950600Z"
    },
    "papermill": {
     "duration": 0.171429,
     "end_time": "2022-04-21T13:27:19.954413",
     "exception": false,
     "start_time": "2022-04-21T13:27:19.782984",
     "status": "completed"
    },
    "tags": []
   },
   "outputs": [
    {
     "data": {
      "text/plain": [
       "Willy Wonka                161\n",
       "Ferris Buellers Day Off    137\n",
       "Old School                  32\n",
       "Name: Movie, dtype: int64"
      ]
     },
     "execution_count": 74,
     "metadata": {},
     "output_type": "execute_result"
    }
   ],
   "source": [
    "Films.Movie.value_counts()"
   ]
  },
  {
   "cell_type": "code",
   "execution_count": 75,
   "id": "ae144137",
   "metadata": {
    "execution": {
     "iopub.execute_input": "2022-04-21T13:27:20.277711Z",
     "iopub.status.busy": "2022-04-21T13:27:20.277074Z",
     "iopub.status.idle": "2022-04-21T13:27:20.291561Z",
     "shell.execute_reply": "2022-04-21T13:27:20.290859Z"
    },
    "papermill": {
     "duration": 0.177231,
     "end_time": "2022-04-21T13:27:20.293854",
     "exception": false,
     "start_time": "2022-04-21T13:27:20.116623",
     "status": "completed"
    },
    "tags": []
   },
   "outputs": [],
   "source": [
    "Willy_Wonka=Films.query('Movie==\"Willy Wonka\"').Overall\n",
    "Ferris_Buellers_Day_Off=Films.query('Movie==\"Ferris Buellers Day Off\"').Overall\n",
    "Old_School=Films.query('Movie==\"Old School\"').Overall"
   ]
  },
  {
   "cell_type": "code",
   "execution_count": 76,
   "id": "d40ed6fa",
   "metadata": {
    "execution": {
     "iopub.execute_input": "2022-04-21T13:27:20.610526Z",
     "iopub.status.busy": "2022-04-21T13:27:20.609984Z",
     "iopub.status.idle": "2022-04-21T13:27:20.616406Z",
     "shell.execute_reply": "2022-04-21T13:27:20.615606Z"
    },
    "papermill": {
     "duration": 0.168726,
     "end_time": "2022-04-21T13:27:20.618407",
     "exception": false,
     "start_time": "2022-04-21T13:27:20.449681",
     "status": "completed"
    },
    "tags": []
   },
   "outputs": [
    {
     "data": {
      "text/plain": [
       "F_onewayResult(statistic=1.335243752886233, pvalue=0.2645245972839759)"
      ]
     },
     "execution_count": 76,
     "metadata": {},
     "output_type": "execute_result"
    }
   ],
   "source": [
    "stats.f_oneway(Willy_Wonka,Ferris_Buellers_Day_Off,Old_School)"
   ]
  },
  {
   "cell_type": "raw",
   "id": "85b8f180",
   "metadata": {
    "papermill": {
     "duration": 0.155692,
     "end_time": "2022-04-21T13:27:20.932843",
     "exception": false,
     "start_time": "2022-04-21T13:27:20.777151",
     "status": "completed"
    },
    "tags": []
   },
   "source": [
    "pvalue=0.2645245972839759 which is greater than 0.05, we cannot reject null hypothesis .\n",
    "With 95 percent confidence interval,we cannot say that Movie is a factor linked to satisfaction with this data."
   ]
  },
  {
   "cell_type": "code",
   "execution_count": 77,
   "id": "2cdc65cc",
   "metadata": {
    "execution": {
     "iopub.execute_input": "2022-04-21T13:27:21.251899Z",
     "iopub.status.busy": "2022-04-21T13:27:21.250905Z",
     "iopub.status.idle": "2022-04-21T13:27:21.254847Z",
     "shell.execute_reply": "2022-04-21T13:27:21.254151Z"
    },
    "papermill": {
     "duration": 0.166206,
     "end_time": "2022-04-21T13:27:21.256810",
     "exception": false,
     "start_time": "2022-04-21T13:27:21.090604",
     "status": "completed"
    },
    "tags": []
   },
   "outputs": [],
   "source": [
    "# factor 2 = Gender"
   ]
  },
  {
   "cell_type": "code",
   "execution_count": 78,
   "id": "422cce33",
   "metadata": {
    "execution": {
     "iopub.execute_input": "2022-04-21T13:27:21.590453Z",
     "iopub.status.busy": "2022-04-21T13:27:21.589891Z",
     "iopub.status.idle": "2022-04-21T13:27:21.599847Z",
     "shell.execute_reply": "2022-04-21T13:27:21.598915Z"
    },
    "papermill": {
     "duration": 0.183172,
     "end_time": "2022-04-21T13:27:21.602173",
     "exception": false,
     "start_time": "2022-04-21T13:27:21.419001",
     "status": "completed"
    },
    "tags": []
   },
   "outputs": [],
   "source": [
    "Male=Films.query('Gender==\"Male\"').Overall\n",
    "Female=Films.query('Gender==\"Female\"').Overall"
   ]
  },
  {
   "cell_type": "code",
   "execution_count": 79,
   "id": "7bde3368",
   "metadata": {
    "execution": {
     "iopub.execute_input": "2022-04-21T13:27:21.935827Z",
     "iopub.status.busy": "2022-04-21T13:27:21.935521Z",
     "iopub.status.idle": "2022-04-21T13:27:21.941463Z",
     "shell.execute_reply": "2022-04-21T13:27:21.940884Z"
    },
    "papermill": {
     "duration": 0.177472,
     "end_time": "2022-04-21T13:27:21.943668",
     "exception": false,
     "start_time": "2022-04-21T13:27:21.766196",
     "status": "completed"
    },
    "tags": []
   },
   "outputs": [
    {
     "data": {
      "text/plain": [
       "Ttest_indResult(statistic=1.393621669674226, pvalue=0.16437541932112798)"
      ]
     },
     "execution_count": 79,
     "metadata": {},
     "output_type": "execute_result"
    }
   ],
   "source": [
    "stats.ttest_ind(Male,Female)"
   ]
  },
  {
   "cell_type": "raw",
   "id": "5c10a88a",
   "metadata": {
    "papermill": {
     "duration": 0.163418,
     "end_time": "2022-04-21T13:27:22.281135",
     "exception": false,
     "start_time": "2022-04-21T13:27:22.117717",
     "status": "completed"
    },
    "tags": []
   },
   "source": [
    "pvalue=0.1643754193211279 which is greater than 0.05,so, we cannot reject null hypothesis .\n",
    "With 95 percent confidence interval,we cannot say that Gender is a factor linked to satisfaction with this data."
   ]
  },
  {
   "cell_type": "code",
   "execution_count": 80,
   "id": "8736501a",
   "metadata": {
    "execution": {
     "iopub.execute_input": "2022-04-21T13:27:22.605972Z",
     "iopub.status.busy": "2022-04-21T13:27:22.605450Z",
     "iopub.status.idle": "2022-04-21T13:27:22.608650Z",
     "shell.execute_reply": "2022-04-21T13:27:22.607968Z"
    },
    "papermill": {
     "duration": 0.16499,
     "end_time": "2022-04-21T13:27:22.610512",
     "exception": false,
     "start_time": "2022-04-21T13:27:22.445522",
     "status": "completed"
    },
    "tags": []
   },
   "outputs": [],
   "source": [
    "# factor 3 = Marital_Status"
   ]
  },
  {
   "cell_type": "code",
   "execution_count": 81,
   "id": "5509ecca",
   "metadata": {
    "execution": {
     "iopub.execute_input": "2022-04-21T13:27:22.932237Z",
     "iopub.status.busy": "2022-04-21T13:27:22.931696Z",
     "iopub.status.idle": "2022-04-21T13:27:22.940525Z",
     "shell.execute_reply": "2022-04-21T13:27:22.939836Z"
    },
    "papermill": {
     "duration": 0.163701,
     "end_time": "2022-04-21T13:27:22.942497",
     "exception": false,
     "start_time": "2022-04-21T13:27:22.778796",
     "status": "completed"
    },
    "tags": []
   },
   "outputs": [],
   "source": [
    "Married=Films.query('Marital_Status==\"Married\"').Overall\n",
    "Single=Films.query('Marital_Status==\"Single\"').Overall"
   ]
  },
  {
   "cell_type": "code",
   "execution_count": 82,
   "id": "f88699fb",
   "metadata": {
    "execution": {
     "iopub.execute_input": "2022-04-21T13:27:23.252439Z",
     "iopub.status.busy": "2022-04-21T13:27:23.251900Z",
     "iopub.status.idle": "2022-04-21T13:27:23.257357Z",
     "shell.execute_reply": "2022-04-21T13:27:23.256800Z"
    },
    "papermill": {
     "duration": 0.163546,
     "end_time": "2022-04-21T13:27:23.259250",
     "exception": false,
     "start_time": "2022-04-21T13:27:23.095704",
     "status": "completed"
    },
    "tags": []
   },
   "outputs": [
    {
     "data": {
      "text/plain": [
       "Ttest_indResult(statistic=0.7171640309514444, pvalue=0.47378328196635067)"
      ]
     },
     "execution_count": 82,
     "metadata": {},
     "output_type": "execute_result"
    }
   ],
   "source": [
    "stats.ttest_ind(Single,Married)"
   ]
  },
  {
   "cell_type": "raw",
   "id": "9d8f0740",
   "metadata": {
    "papermill": {
     "duration": 0.1535,
     "end_time": "2022-04-21T13:27:23.565278",
     "exception": false,
     "start_time": "2022-04-21T13:27:23.411778",
     "status": "completed"
    },
    "tags": []
   },
   "source": [
    "pvalue=0.47378328196635067,which is greater than 0.05,so, we cannot reject null hypothesis .\n",
    "With 95 percent confidence interval,we cannot say that Marital_status is a factor linked to satisfaction with this data."
   ]
  },
  {
   "cell_type": "code",
   "execution_count": 83,
   "id": "22e844fe",
   "metadata": {
    "execution": {
     "iopub.execute_input": "2022-04-21T13:27:23.870783Z",
     "iopub.status.busy": "2022-04-21T13:27:23.870334Z",
     "iopub.status.idle": "2022-04-21T13:27:23.873318Z",
     "shell.execute_reply": "2022-04-21T13:27:23.872704Z"
    },
    "papermill": {
     "duration": 0.157364,
     "end_time": "2022-04-21T13:27:23.875172",
     "exception": false,
     "start_time": "2022-04-21T13:27:23.717808",
     "status": "completed"
    },
    "tags": []
   },
   "outputs": [],
   "source": [
    "# factor 4 = Sinage"
   ]
  },
  {
   "cell_type": "code",
   "execution_count": 84,
   "id": "92436d53",
   "metadata": {
    "execution": {
     "iopub.execute_input": "2022-04-21T13:27:24.180482Z",
     "iopub.status.busy": "2022-04-21T13:27:24.179950Z",
     "iopub.status.idle": "2022-04-21T13:27:24.187260Z",
     "shell.execute_reply": "2022-04-21T13:27:24.186482Z"
    },
    "papermill": {
     "duration": 0.162149,
     "end_time": "2022-04-21T13:27:24.189396",
     "exception": false,
     "start_time": "2022-04-21T13:27:24.027247",
     "status": "completed"
    },
    "tags": []
   },
   "outputs": [
    {
     "data": {
      "text/plain": [
       "2.0    158\n",
       "1.0    113\n",
       "3.0     48\n",
       "4.0      6\n",
       "5.0      5\n",
       "Name: Sinage, dtype: int64"
      ]
     },
     "execution_count": 84,
     "metadata": {},
     "output_type": "execute_result"
    }
   ],
   "source": [
    "Films.Sinage.value_counts()"
   ]
  },
  {
   "cell_type": "code",
   "execution_count": 85,
   "id": "a3147421",
   "metadata": {
    "execution": {
     "iopub.execute_input": "2022-04-21T13:27:24.498900Z",
     "iopub.status.busy": "2022-04-21T13:27:24.498141Z",
     "iopub.status.idle": "2022-04-21T13:27:24.503830Z",
     "shell.execute_reply": "2022-04-21T13:27:24.503246Z"
    },
    "papermill": {
     "duration": 0.161839,
     "end_time": "2022-04-21T13:27:24.505583",
     "exception": false,
     "start_time": "2022-04-21T13:27:24.343744",
     "status": "completed"
    },
    "tags": []
   },
   "outputs": [
    {
     "data": {
      "text/plain": [
       "PearsonRResult(statistic=0.38210280422395665, pvalue=6.501065434766499e-13)"
      ]
     },
     "execution_count": 85,
     "metadata": {},
     "output_type": "execute_result"
    }
   ],
   "source": [
    "stats.pearsonr(Films.Sinage,Films.Overall)"
   ]
  },
  {
   "cell_type": "raw",
   "id": "a5c0c92a",
   "metadata": {
    "papermill": {
     "duration": 0.157337,
     "end_time": "2022-04-21T13:27:24.814614",
     "exception": false,
     "start_time": "2022-04-21T13:27:24.657277",
     "status": "completed"
    },
    "tags": []
   },
   "source": [
    "pvalue=6.501065434766499e-13,,which is less than 0.05,we can reject null hypothesis .\n",
    "With 95 percent confidence interval,we can say that Sinage is a factor linked to satisfaction with this data."
   ]
  },
  {
   "cell_type": "code",
   "execution_count": 86,
   "id": "26d522e9",
   "metadata": {
    "execution": {
     "iopub.execute_input": "2022-04-21T13:27:25.121521Z",
     "iopub.status.busy": "2022-04-21T13:27:25.120986Z",
     "iopub.status.idle": "2022-04-21T13:27:25.124050Z",
     "shell.execute_reply": "2022-04-21T13:27:25.123495Z"
    },
    "papermill": {
     "duration": 0.158885,
     "end_time": "2022-04-21T13:27:25.125893",
     "exception": false,
     "start_time": "2022-04-21T13:27:24.967008",
     "status": "completed"
    },
    "tags": []
   },
   "outputs": [],
   "source": [
    "# factor 5 = Parking"
   ]
  },
  {
   "cell_type": "code",
   "execution_count": 87,
   "id": "fe6aa5d5",
   "metadata": {
    "execution": {
     "iopub.execute_input": "2022-04-21T13:27:25.430506Z",
     "iopub.status.busy": "2022-04-21T13:27:25.429944Z",
     "iopub.status.idle": "2022-04-21T13:27:25.435871Z",
     "shell.execute_reply": "2022-04-21T13:27:25.435074Z"
    },
    "papermill": {
     "duration": 0.160804,
     "end_time": "2022-04-21T13:27:25.437994",
     "exception": false,
     "start_time": "2022-04-21T13:27:25.277190",
     "status": "completed"
    },
    "tags": []
   },
   "outputs": [
    {
     "data": {
      "text/plain": [
       "PearsonRResult(statistic=0.5144289487855273, pvalue=1.0840276087789278e-23)"
      ]
     },
     "execution_count": 87,
     "metadata": {},
     "output_type": "execute_result"
    }
   ],
   "source": [
    "stats.pearsonr(Films.Parking,Films.Overall)"
   ]
  },
  {
   "cell_type": "raw",
   "id": "216e8561",
   "metadata": {
    "papermill": {
     "duration": 0.153574,
     "end_time": "2022-04-21T13:27:25.744565",
     "exception": false,
     "start_time": "2022-04-21T13:27:25.590991",
     "status": "completed"
    },
    "tags": []
   },
   "source": [
    "pvalue=1.0840276087789895e-23 ,,which is less than 0.05,so, we can reject null hypothesis .\n",
    "With 95 percent confidence interval,we can say that Parking is a factor linked to satisfaction with this data."
   ]
  },
  {
   "cell_type": "code",
   "execution_count": 88,
   "id": "636c9817",
   "metadata": {
    "execution": {
     "iopub.execute_input": "2022-04-21T13:27:26.054453Z",
     "iopub.status.busy": "2022-04-21T13:27:26.053677Z",
     "iopub.status.idle": "2022-04-21T13:27:26.058040Z",
     "shell.execute_reply": "2022-04-21T13:27:26.057124Z"
    },
    "papermill": {
     "duration": 0.161035,
     "end_time": "2022-04-21T13:27:26.060358",
     "exception": false,
     "start_time": "2022-04-21T13:27:25.899323",
     "status": "completed"
    },
    "tags": []
   },
   "outputs": [],
   "source": [
    "# factor 6 = Clean"
   ]
  },
  {
   "cell_type": "code",
   "execution_count": 89,
   "id": "66803f6b",
   "metadata": {
    "execution": {
     "iopub.execute_input": "2022-04-21T13:27:26.367107Z",
     "iopub.status.busy": "2022-04-21T13:27:26.366800Z",
     "iopub.status.idle": "2022-04-21T13:27:26.373360Z",
     "shell.execute_reply": "2022-04-21T13:27:26.372390Z"
    },
    "papermill": {
     "duration": 0.163769,
     "end_time": "2022-04-21T13:27:26.375458",
     "exception": false,
     "start_time": "2022-04-21T13:27:26.211689",
     "status": "completed"
    },
    "tags": []
   },
   "outputs": [
    {
     "data": {
      "text/plain": [
       "PearsonRResult(statistic=0.3508222789070923, pvalue=5.437550007439627e-11)"
      ]
     },
     "execution_count": 89,
     "metadata": {},
     "output_type": "execute_result"
    }
   ],
   "source": [
    "stats.pearsonr(Films.Clean,Films.Overall)"
   ]
  },
  {
   "cell_type": "raw",
   "id": "1826acb3",
   "metadata": {
    "papermill": {
     "duration": 0.152827,
     "end_time": "2022-04-21T13:27:26.683782",
     "exception": false,
     "start_time": "2022-04-21T13:27:26.530955",
     "status": "completed"
    },
    "tags": []
   },
   "source": [
    "pvalue=5.437550007439627e-11 ,,which is less than 0.05,so, we can reject null hypothesis .\n",
    "With 95 percent confidence interval,we can say that Clean is a factor linked to satisfaction with this data."
   ]
  },
  {
   "cell_type": "code",
   "execution_count": 90,
   "id": "8dfed27f",
   "metadata": {
    "execution": {
     "iopub.execute_input": "2022-04-21T13:27:26.989495Z",
     "iopub.status.busy": "2022-04-21T13:27:26.989225Z",
     "iopub.status.idle": "2022-04-21T13:27:26.992338Z",
     "shell.execute_reply": "2022-04-21T13:27:26.991763Z"
    },
    "papermill": {
     "duration": 0.158602,
     "end_time": "2022-04-21T13:27:26.994171",
     "exception": false,
     "start_time": "2022-04-21T13:27:26.835569",
     "status": "completed"
    },
    "tags": []
   },
   "outputs": [],
   "source": [
    "# factor 7 = Age"
   ]
  },
  {
   "cell_type": "code",
   "execution_count": 91,
   "id": "9c22e925",
   "metadata": {
    "execution": {
     "iopub.execute_input": "2022-04-21T13:27:27.303578Z",
     "iopub.status.busy": "2022-04-21T13:27:27.303039Z",
     "iopub.status.idle": "2022-04-21T13:27:27.310157Z",
     "shell.execute_reply": "2022-04-21T13:27:27.309551Z"
    },
    "papermill": {
     "duration": 0.163117,
     "end_time": "2022-04-21T13:27:27.311887",
     "exception": false,
     "start_time": "2022-04-21T13:27:27.148770",
     "status": "completed"
    },
    "tags": []
   },
   "outputs": [
    {
     "data": {
      "text/plain": [
       "2.0    177\n",
       "3.0    117\n",
       "1.0     26\n",
       "4.0     10\n",
       "Name: Age, dtype: int64"
      ]
     },
     "execution_count": 91,
     "metadata": {},
     "output_type": "execute_result"
    }
   ],
   "source": [
    "Films.Age.value_counts()"
   ]
  },
  {
   "cell_type": "code",
   "execution_count": 92,
   "id": "727c72e3",
   "metadata": {
    "execution": {
     "iopub.execute_input": "2022-04-21T13:27:27.622081Z",
     "iopub.status.busy": "2022-04-21T13:27:27.621547Z",
     "iopub.status.idle": "2022-04-21T13:27:27.637221Z",
     "shell.execute_reply": "2022-04-21T13:27:27.636597Z"
    },
    "papermill": {
     "duration": 0.172214,
     "end_time": "2022-04-21T13:27:27.639487",
     "exception": false,
     "start_time": "2022-04-21T13:27:27.467273",
     "status": "completed"
    },
    "tags": []
   },
   "outputs": [],
   "source": [
    "one=Films.query('Age==1').Overall\n",
    "two=Films.query('Age==2').Overall\n",
    "three=Films.query('Age==3').Overall\n",
    "four=Films.query('Age==4').Overall"
   ]
  },
  {
   "cell_type": "code",
   "execution_count": 93,
   "id": "c63c91d5",
   "metadata": {
    "execution": {
     "iopub.execute_input": "2022-04-21T13:27:27.947987Z",
     "iopub.status.busy": "2022-04-21T13:27:27.947211Z",
     "iopub.status.idle": "2022-04-21T13:27:27.952665Z",
     "shell.execute_reply": "2022-04-21T13:27:27.951961Z"
    },
    "papermill": {
     "duration": 0.161104,
     "end_time": "2022-04-21T13:27:27.954475",
     "exception": false,
     "start_time": "2022-04-21T13:27:27.793371",
     "status": "completed"
    },
    "tags": []
   },
   "outputs": [
    {
     "data": {
      "text/plain": [
       "1.5384615384615385"
      ]
     },
     "execution_count": 93,
     "metadata": {},
     "output_type": "execute_result"
    }
   ],
   "source": [
    "one.mean()"
   ]
  },
  {
   "cell_type": "code",
   "execution_count": 94,
   "id": "2272285b",
   "metadata": {
    "execution": {
     "iopub.execute_input": "2022-04-21T13:27:28.266545Z",
     "iopub.status.busy": "2022-04-21T13:27:28.265996Z",
     "iopub.status.idle": "2022-04-21T13:27:28.271424Z",
     "shell.execute_reply": "2022-04-21T13:27:28.270665Z"
    },
    "papermill": {
     "duration": 0.163781,
     "end_time": "2022-04-21T13:27:28.273423",
     "exception": false,
     "start_time": "2022-04-21T13:27:28.109642",
     "status": "completed"
    },
    "tags": []
   },
   "outputs": [
    {
     "data": {
      "text/plain": [
       "1.6779661016949152"
      ]
     },
     "execution_count": 94,
     "metadata": {},
     "output_type": "execute_result"
    }
   ],
   "source": [
    "two.mean()"
   ]
  },
  {
   "cell_type": "code",
   "execution_count": 95,
   "id": "2a310305",
   "metadata": {
    "execution": {
     "iopub.execute_input": "2022-04-21T13:27:28.581834Z",
     "iopub.status.busy": "2022-04-21T13:27:28.581523Z",
     "iopub.status.idle": "2022-04-21T13:27:28.587212Z",
     "shell.execute_reply": "2022-04-21T13:27:28.586657Z"
    },
    "papermill": {
     "duration": 0.162148,
     "end_time": "2022-04-21T13:27:28.589017",
     "exception": false,
     "start_time": "2022-04-21T13:27:28.426869",
     "status": "completed"
    },
    "tags": []
   },
   "outputs": [
    {
     "data": {
      "text/plain": [
       "1.547008547008547"
      ]
     },
     "execution_count": 95,
     "metadata": {},
     "output_type": "execute_result"
    }
   ],
   "source": [
    "three.mean()"
   ]
  },
  {
   "cell_type": "code",
   "execution_count": 96,
   "id": "3a53e4de",
   "metadata": {
    "execution": {
     "iopub.execute_input": "2022-04-21T13:27:28.899282Z",
     "iopub.status.busy": "2022-04-21T13:27:28.898826Z",
     "iopub.status.idle": "2022-04-21T13:27:28.904544Z",
     "shell.execute_reply": "2022-04-21T13:27:28.903972Z"
    },
    "papermill": {
     "duration": 0.162676,
     "end_time": "2022-04-21T13:27:28.906492",
     "exception": false,
     "start_time": "2022-04-21T13:27:28.743816",
     "status": "completed"
    },
    "tags": []
   },
   "outputs": [
    {
     "data": {
      "text/plain": [
       "1.7"
      ]
     },
     "execution_count": 96,
     "metadata": {},
     "output_type": "execute_result"
    }
   ],
   "source": [
    "four.mean()"
   ]
  },
  {
   "cell_type": "code",
   "execution_count": 97,
   "id": "598f8ac0",
   "metadata": {
    "execution": {
     "iopub.execute_input": "2022-04-21T13:27:29.218460Z",
     "iopub.status.busy": "2022-04-21T13:27:29.217998Z",
     "iopub.status.idle": "2022-04-21T13:27:29.224295Z",
     "shell.execute_reply": "2022-04-21T13:27:29.223637Z"
    },
    "papermill": {
     "duration": 0.163763,
     "end_time": "2022-04-21T13:27:29.226258",
     "exception": false,
     "start_time": "2022-04-21T13:27:29.062495",
     "status": "completed"
    },
    "tags": []
   },
   "outputs": [
    {
     "data": {
      "text/plain": [
       "F_onewayResult(statistic=1.0249927945692117, pvalue=0.3816737451872579)"
      ]
     },
     "execution_count": 97,
     "metadata": {},
     "output_type": "execute_result"
    }
   ],
   "source": [
    "stats.f_oneway(one,two,three,four)"
   ]
  },
  {
   "cell_type": "raw",
   "id": "a008f627",
   "metadata": {
    "papermill": {
     "duration": 0.153563,
     "end_time": "2022-04-21T13:27:29.534613",
     "exception": false,
     "start_time": "2022-04-21T13:27:29.381050",
     "status": "completed"
    },
    "tags": []
   },
   "source": [
    "pvalue=0.3816737451872579,which is greater than 0.05,so, we cannot reject null hypothesis .\n",
    "With 95 percent confidence interval,we cannot say that Age is a factor linked to satisfaction with this data."
   ]
  },
  {
   "cell_type": "code",
   "execution_count": 98,
   "id": "897b691b",
   "metadata": {
    "execution": {
     "iopub.execute_input": "2022-04-21T13:27:29.856738Z",
     "iopub.status.busy": "2022-04-21T13:27:29.855990Z",
     "iopub.status.idle": "2022-04-21T13:27:29.859611Z",
     "shell.execute_reply": "2022-04-21T13:27:29.858951Z"
    },
    "papermill": {
     "duration": 0.173485,
     "end_time": "2022-04-21T13:27:29.861704",
     "exception": false,
     "start_time": "2022-04-21T13:27:29.688219",
     "status": "completed"
    },
    "tags": []
   },
   "outputs": [],
   "source": [
    "# factor 8= Income"
   ]
  },
  {
   "cell_type": "code",
   "execution_count": 99,
   "id": "8aa225b1",
   "metadata": {
    "execution": {
     "iopub.execute_input": "2022-04-21T13:27:30.173476Z",
     "iopub.status.busy": "2022-04-21T13:27:30.172929Z",
     "iopub.status.idle": "2022-04-21T13:27:30.180717Z",
     "shell.execute_reply": "2022-04-21T13:27:30.179754Z"
    },
    "papermill": {
     "duration": 0.165978,
     "end_time": "2022-04-21T13:27:30.182857",
     "exception": false,
     "start_time": "2022-04-21T13:27:30.016879",
     "status": "completed"
    },
    "tags": []
   },
   "outputs": [
    {
     "data": {
      "text/plain": [
       "1.0    158\n",
       "3.0     90\n",
       "2.0     82\n",
       "Name: Income, dtype: int64"
      ]
     },
     "execution_count": 99,
     "metadata": {},
     "output_type": "execute_result"
    }
   ],
   "source": [
    "Films.Income.value_counts()"
   ]
  },
  {
   "cell_type": "code",
   "execution_count": 100,
   "id": "359da1f0",
   "metadata": {
    "execution": {
     "iopub.execute_input": "2022-04-21T13:27:30.496773Z",
     "iopub.status.busy": "2022-04-21T13:27:30.496464Z",
     "iopub.status.idle": "2022-04-21T13:27:30.509131Z",
     "shell.execute_reply": "2022-04-21T13:27:30.508455Z"
    },
    "papermill": {
     "duration": 0.171304,
     "end_time": "2022-04-21T13:27:30.511066",
     "exception": false,
     "start_time": "2022-04-21T13:27:30.339762",
     "status": "completed"
    },
    "tags": []
   },
   "outputs": [],
   "source": [
    "income1=Films.query('Income==1').Overall\n",
    "income2=Films.query('Income==2').Overall\n",
    "income3=Films.query('Income==3').Overall\n"
   ]
  },
  {
   "cell_type": "code",
   "execution_count": 101,
   "id": "6643c971",
   "metadata": {
    "execution": {
     "iopub.execute_input": "2022-04-21T13:27:30.854571Z",
     "iopub.status.busy": "2022-04-21T13:27:30.854224Z",
     "iopub.status.idle": "2022-04-21T13:27:30.860124Z",
     "shell.execute_reply": "2022-04-21T13:27:30.859596Z"
    },
    "papermill": {
     "duration": 0.195332,
     "end_time": "2022-04-21T13:27:30.862207",
     "exception": false,
     "start_time": "2022-04-21T13:27:30.666875",
     "status": "completed"
    },
    "tags": []
   },
   "outputs": [
    {
     "data": {
      "text/plain": [
       "F_onewayResult(statistic=0.16488481054397225, pvalue=0.8480618362664597)"
      ]
     },
     "execution_count": 101,
     "metadata": {},
     "output_type": "execute_result"
    }
   ],
   "source": [
    "stats.f_oneway(income1,income2,income3)"
   ]
  },
  {
   "cell_type": "raw",
   "id": "5402e2cc",
   "metadata": {
    "papermill": {
     "duration": 0.154336,
     "end_time": "2022-04-21T13:27:31.172609",
     "exception": false,
     "start_time": "2022-04-21T13:27:31.018273",
     "status": "completed"
    },
    "tags": []
   },
   "source": [
    "pvalue=0.8480618362664597,which is greater than 0.05,so, we cannot reject null hypothesis .\n",
    "With 95 percent confidence interval,we cannot say that Income is a factor linked to satisfaction with this data."
   ]
  },
  {
   "cell_type": "code",
   "execution_count": 102,
   "id": "74859691",
   "metadata": {
    "execution": {
     "iopub.execute_input": "2022-04-21T13:27:31.483105Z",
     "iopub.status.busy": "2022-04-21T13:27:31.482623Z",
     "iopub.status.idle": "2022-04-21T13:27:31.485797Z",
     "shell.execute_reply": "2022-04-21T13:27:31.485037Z"
    },
    "papermill": {
     "duration": 0.160607,
     "end_time": "2022-04-21T13:27:31.487612",
     "exception": false,
     "start_time": "2022-04-21T13:27:31.327005",
     "status": "completed"
    },
    "tags": []
   },
   "outputs": [],
   "source": [
    "# factor 9 = Hear_About"
   ]
  },
  {
   "cell_type": "code",
   "execution_count": 103,
   "id": "00cfc4c9",
   "metadata": {
    "execution": {
     "iopub.execute_input": "2022-04-21T13:27:31.800674Z",
     "iopub.status.busy": "2022-04-21T13:27:31.800151Z",
     "iopub.status.idle": "2022-04-21T13:27:31.807432Z",
     "shell.execute_reply": "2022-04-21T13:27:31.806700Z"
    },
    "papermill": {
     "duration": 0.16668,
     "end_time": "2022-04-21T13:27:31.809361",
     "exception": false,
     "start_time": "2022-04-21T13:27:31.642681",
     "status": "completed"
    },
    "tags": []
   },
   "outputs": [
    {
     "data": {
      "text/plain": [
       "5      233\n",
       "4       41\n",
       "1       22\n",
       "3       14\n",
       "2       12\n",
       "2,5      2\n",
       "3,4      2\n",
       "4,5      1\n",
       "1,5      1\n",
       "5,4      1\n",
       "3,5      1\n",
       "Name: Hear_About, dtype: int64"
      ]
     },
     "execution_count": 103,
     "metadata": {},
     "output_type": "execute_result"
    }
   ],
   "source": [
    "Films.Hear_About.value_counts()"
   ]
  },
  {
   "cell_type": "code",
   "execution_count": 104,
   "id": "cf24e166",
   "metadata": {
    "execution": {
     "iopub.execute_input": "2022-04-21T13:27:32.126484Z",
     "iopub.status.busy": "2022-04-21T13:27:32.125936Z",
     "iopub.status.idle": "2022-04-21T13:27:32.156909Z",
     "shell.execute_reply": "2022-04-21T13:27:32.156023Z"
    },
    "papermill": {
     "duration": 0.192669,
     "end_time": "2022-04-21T13:27:32.159069",
     "exception": false,
     "start_time": "2022-04-21T13:27:31.966400",
     "status": "completed"
    },
    "tags": []
   },
   "outputs": [],
   "source": [
    "Hear_About_5=Films.query('Hear_About==\"5\"').Overall\n",
    "Hear_About_4=Films.query('Hear_About==\"4\"').Overall\n",
    "Hear_About_3=Films.query('Hear_About==\"3\"').Overall\n",
    "Hear_About_2=Films.query('Hear_About==\"2\"').Overall\n",
    "Hear_About_1=Films.query('Hear_About==\"1\"').Overall\n",
    "Hear_About_2_5=Films.query('Hear_About==\"2,5\"').Overall\n",
    "Hear_About_3_4=Films.query('Hear_About==\"3,4\"').Overall\n",
    "Hear_About_4_5=Films.query('Hear_About==\"4,5\"').Overall\n",
    "Hear_About_1_5=Films.query('Hear_About==\"1,5\"').Overall\n",
    "Hear_About_5_4=Films.query('Hear_About==\"5,4\"').Overall\n",
    "Hear_About_3_5=Films.query('Hear_About==\"3,5\"').Overall"
   ]
  },
  {
   "cell_type": "code",
   "execution_count": 105,
   "id": "919fbd00",
   "metadata": {
    "execution": {
     "iopub.execute_input": "2022-04-21T13:27:32.475645Z",
     "iopub.status.busy": "2022-04-21T13:27:32.475057Z",
     "iopub.status.idle": "2022-04-21T13:27:32.482252Z",
     "shell.execute_reply": "2022-04-21T13:27:32.481436Z"
    },
    "papermill": {
     "duration": 0.166404,
     "end_time": "2022-04-21T13:27:32.484285",
     "exception": false,
     "start_time": "2022-04-21T13:27:32.317881",
     "status": "completed"
    },
    "tags": []
   },
   "outputs": [
    {
     "data": {
      "text/plain": [
       "F_onewayResult(statistic=1.457397539085138, pvalue=0.15433478299883888)"
      ]
     },
     "execution_count": 105,
     "metadata": {},
     "output_type": "execute_result"
    }
   ],
   "source": [
    "stats.f_oneway(Hear_About_5,Hear_About_4,Hear_About_3,Hear_About_2,Hear_About_1,Hear_About_2_5,Hear_About_3_4,Hear_About_4_5,Hear_About_1_5,Hear_About_5_4,Hear_About_3_5)"
   ]
  },
  {
   "cell_type": "raw",
   "id": "d1dea6a5",
   "metadata": {
    "papermill": {
     "duration": 0.157899,
     "end_time": "2022-04-21T13:27:32.800165",
     "exception": false,
     "start_time": "2022-04-21T13:27:32.642266",
     "status": "completed"
    },
    "tags": []
   },
   "source": [
    "pvalue=0.15433478299883888,which is greater than 0.05,so, we cannot reject null hypothesis .\n",
    "With 95 percent confidence interval,we cannot say that Hear_about is a factor linked to satisfaction with this data."
   ]
  },
  {
   "cell_type": "markdown",
   "id": "b3f2c5d4",
   "metadata": {
    "papermill": {
     "duration": 0.159686,
     "end_time": "2022-04-21T13:27:33.117100",
     "exception": false,
     "start_time": "2022-04-21T13:27:32.957414",
     "status": "completed"
    },
    "tags": []
   },
   "source": [
    "#### therefore, sinage,parking and clean are factors linked to satisfaction"
   ]
  },
  {
   "cell_type": "markdown",
   "id": "774e2956",
   "metadata": {},
   "source": [
    "##### c. What is the demographic profile of Film on the Rocks patrons?"
   ]
  },
  {
   "cell_type": "code",
   "execution_count": 106,
   "id": "fa42bc50",
   "metadata": {
    "execution": {
     "iopub.execute_input": "2022-04-21T13:27:33.742962Z",
     "iopub.status.busy": "2022-04-21T13:27:33.742205Z",
     "iopub.status.idle": "2022-04-21T13:27:33.884808Z",
     "shell.execute_reply": "2022-04-21T13:27:33.883827Z"
    },
    "papermill": {
     "duration": 0.302502,
     "end_time": "2022-04-21T13:27:33.888192",
     "exception": false,
     "start_time": "2022-04-21T13:27:33.585690",
     "status": "completed"
    },
    "tags": []
   },
   "outputs": [
    {
     "data": {
      "image/png": "[encoded data removed]",
      "text/plain": [
       "<Figure size 640x480 with 1 Axes>"
      ]
     },
     "metadata": {},
     "output_type": "display_data"
    }
   ],
   "source": [
    "a=(((Films.Gender.value_counts())/(Films.shape[0])*100)).reset_index().set_index('index')\n",
    "plt.pie(a.Gender,labels=a.index,autopct='%0.2f %%')\n",
    "plt.show()\n"
   ]
  },
  {
   "cell_type": "code",
   "execution_count": 107,
   "id": "eb1127b7",
   "metadata": {
    "execution": {
     "iopub.execute_input": "2022-04-21T13:27:34.241511Z",
     "iopub.status.busy": "2022-04-21T13:27:34.240980Z",
     "iopub.status.idle": "2022-04-21T13:27:34.322408Z",
     "shell.execute_reply": "2022-04-21T13:27:34.321466Z"
    },
    "papermill": {
     "duration": 0.244817,
     "end_time": "2022-04-21T13:27:34.325610",
     "exception": false,
     "start_time": "2022-04-21T13:27:34.080793",
     "status": "completed"
    },
    "tags": []
   },
   "outputs": [
    {
     "data": {
      "image/png": "[encoded data removed]",
      "text/plain": [
       "<Figure size 640x480 with 1 Axes>"
      ]
     },
     "metadata": {},
     "output_type": "display_data"
    }
   ],
   "source": [
    "b=(((Films.Marital_Status.value_counts())/(Films.shape[0])*100)).reset_index().set_index('index')\n",
    "plt.pie(b.Marital_Status,labels=b.index,autopct='%0.2f %%')\n",
    "plt.show()"
   ]
  },
  {
   "cell_type": "code",
   "execution_count": 108,
   "id": "312b3d7e",
   "metadata": {
    "execution": {
     "iopub.execute_input": "2022-04-21T13:27:34.687660Z",
     "iopub.status.busy": "2022-04-21T13:27:34.687312Z",
     "iopub.status.idle": "2022-04-21T13:27:34.798061Z",
     "shell.execute_reply": "2022-04-21T13:27:34.797143Z"
    },
    "papermill": {
     "duration": 0.275968,
     "end_time": "2022-04-21T13:27:34.802063",
     "exception": false,
     "start_time": "2022-04-21T13:27:34.526095",
     "status": "completed"
    },
    "tags": []
   },
   "outputs": [
    {
     "data": {
      "image/png": "[encoded data removed]",
      "text/plain": [
       "<Figure size 640x480 with 1 Axes>"
      ]
     },
     "metadata": {},
     "output_type": "display_data"
    }
   ],
   "source": [
    "c=(((Films.Age.value_counts())/(Films.shape[0])*100)).reset_index().set_index('index')\n",
    "plt.pie(c.Age,labels=['13-30','31-60','1-12','60+'],autopct='%0.2f %%')\n",
    "plt.show()"
   ]
  },
  {
   "cell_type": "code",
   "execution_count": 109,
   "id": "279a79d3",
   "metadata": {
    "execution": {
     "iopub.execute_input": "2022-04-21T13:27:35.165182Z",
     "iopub.status.busy": "2022-04-21T13:27:35.164622Z",
     "iopub.status.idle": "2022-04-21T13:27:35.479454Z",
     "shell.execute_reply": "2022-04-21T13:27:35.478452Z"
    },
    "papermill": {
     "duration": 0.48013,
     "end_time": "2022-04-21T13:27:35.483041",
     "exception": false,
     "start_time": "2022-04-21T13:27:35.002911",
     "status": "completed"
    },
    "tags": []
   },
   "outputs": [
    {
     "data": {
      "image/png": "[encoded data removed]",
      "text/plain": [
       "<Figure size 640x480 with 1 Axes>"
      ]
     },
     "metadata": {},
     "output_type": "display_data"
    }
   ],
   "source": [
    "d=(((Films.Income.value_counts())/(Films.shape[0])*100)).reset_index().set_index('index')\n",
    "plt.pie(d.Income,labels=['Less than $50,000','$100,000+','$50-$100,000'],autopct='%0.2f %%')\n",
    "plt.show()"
   ]
  },
  {
   "cell_type": "markdown",
   "id": "ca3cc0e1",
   "metadata": {
    "papermill": {
     "duration": 0.161206,
     "end_time": "2022-04-21T13:27:35.838496",
     "exception": false,
     "start_time": "2022-04-21T13:27:35.677290",
     "status": "completed"
    },
    "tags": []
   },
   "source": [
    "##### d. In what media outlet(s) should the film series be advertised?"
   ]
  },
  {
   "cell_type": "code",
   "execution_count": 110,
   "id": "b8cb7479",
   "metadata": {
    "execution": {
     "iopub.execute_input": "2022-04-21T13:27:36.167561Z",
     "iopub.status.busy": "2022-04-21T13:27:36.166994Z",
     "iopub.status.idle": "2022-04-21T13:27:36.174434Z",
     "shell.execute_reply": "2022-04-21T13:27:36.173633Z"
    },
    "papermill": {
     "duration": 0.17368,
     "end_time": "2022-04-21T13:27:36.176320",
     "exception": false,
     "start_time": "2022-04-21T13:27:36.002640",
     "status": "completed"
    },
    "tags": []
   },
   "outputs": [
    {
     "data": {
      "text/plain": [
       "'5'"
      ]
     },
     "execution_count": 110,
     "metadata": {},
     "output_type": "execute_result"
    }
   ],
   "source": [
    "Films.Hear_About.value_counts().reset_index().iloc[0,0]"
   ]
  },
  {
   "cell_type": "markdown",
   "id": "07501319",
   "metadata": {
    "papermill": {
     "duration": 0.159104,
     "end_time": "2022-04-21T13:27:36.496168",
     "exception": false,
     "start_time": "2022-04-21T13:27:36.337064",
     "status": "completed"
    },
    "tags": []
   },
   "source": [
    "#### 5 means 'word of mouth'.the film series that should be advertised by 'word of mouth'"
   ]
  }
 ],
 "metadata": {
  "kernelspec": {
   "display_name": "Python 3 (ipykernel)",
   "language": "python",
   "name": "python3"
  },
  "language_info": {
   "codemirror_mode": {
    "name": "ipython",
    "version": 3
   },
   "file_extension": ".py",
   "mimetype": "text/x-python",
   "name": "python",
   "nbconvert_exporter": "python",
   "pygments_lexer": "ipython3",
   "version": "3.10.9"
  }
 },
 "nbformat": 4,
 "nbformat_minor": 5
}
